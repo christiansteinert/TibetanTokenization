{
 "cells": [
  {
   "cell_type": "markdown",
   "metadata": {
    "id": "Ci6dy6m_Zxxa"
   },
   "source": [
    "## Train a SentencePiece subword tokenizer for Tibetan\n",
    "This code will train the SentencePiece subword tokenizer to build a BPE (Byte pair encoding) model\n",
    "\n",
    "This code is adapted from an example in the Esukhia bonltk repository https://github.com/Esukhia/bonltk/blob/master/nbs/train_tokenizers/sentence_piece.ipynb. \n",
    "\n",
    "For the original SentencePiece paper, see https://www.aclweb.org/anthology/D18-2012/\n",
    "\n",
    "All code below is licensed under Apache License 2.0 "
   ]
  },
  {
   "cell_type": "markdown",
   "metadata": {
    "id": "2loSTjzvZxxh"
   },
   "source": [
    "## Import Libraries"
   ]
  },
  {
   "cell_type": "code",
   "execution_count": 61,
   "metadata": {
    "colab": {
     "base_uri": "https://localhost:8080/"
    },
    "executionInfo": {
     "elapsed": 8272,
     "status": "ok",
     "timestamp": 1623588489164,
     "user": {
      "displayName": "Christian Steinert",
      "photoUrl": "",
      "userId": "14480600681092148199"
     },
     "user_tz": -120
    },
    "id": "rv61iCWDZ0IX",
    "outputId": "2d7761ab-201c-47f8-dfdf-1bfbc224180b"
   },
   "outputs": [
    {
     "name": "stdout",
     "output_type": "stream",
     "text": [
      "Drive already mounted at /content/drive; to attempt to forcibly remount, call drive.mount(\"/content/drive\", force_remount=True).\n",
      "Requirement already satisfied: botok in /usr/local/lib/python3.7/dist-packages (0.8.6)\n",
      "Requirement already satisfied: pyyaml in /usr/local/lib/python3.7/dist-packages (from botok) (3.13)\n",
      "Requirement already satisfied: requests in /usr/local/lib/python3.7/dist-packages (from botok) (2.23.0)\n",
      "Requirement already satisfied: chardet<4,>=3.0.2 in /usr/local/lib/python3.7/dist-packages (from requests->botok) (3.0.4)\n",
      "Requirement already satisfied: certifi>=2017.4.17 in /usr/local/lib/python3.7/dist-packages (from requests->botok) (2020.12.5)\n",
      "Requirement already satisfied: idna<3,>=2.5 in /usr/local/lib/python3.7/dist-packages (from requests->botok) (2.10)\n",
      "Requirement already satisfied: urllib3!=1.25.0,!=1.25.1,<1.26,>=1.21.1 in /usr/local/lib/python3.7/dist-packages (from requests->botok) (1.24.3)\n",
      "Requirement already satisfied: tqdm>=4.59.0 in /usr/local/lib/python3.7/dist-packages (4.61.1)\n",
      "Requirement already satisfied: sentencepiece in /usr/local/lib/python3.7/dist-packages (0.1.95)\n"
     ]
    }
   ],
   "source": [
    "if 'google.colab' in str(get_ipython()):\n",
    "  from google.colab import drive\n",
    "  drive.mount('/content/drive')\n",
    "  folder_prefix = '/content/drive/MyDrive/Colab Notebooks/'\n",
    "  temp_folder = '/tmp/'\n",
    "  google_collab = True\n",
    "else:\n",
    "  folder_prefix = ''\n",
    "  temp_folder = '/tmp/'\n",
    "  google_collab = False\n",
    "\n",
    "\n",
    "if google_collab:\n",
    "    !pip install botok\n",
    "    !pip install 'tqdm>=4.59.0' # make sure to use a sufficiently new version of tqdm that supports multithreading\n",
    "    !pip install sentencepiece"
   ]
  },
  {
   "cell_type": "code",
   "execution_count": 48,
   "metadata": {
    "executionInfo": {
     "elapsed": 34,
     "status": "ok",
     "timestamp": 1623586837505,
     "user": {
      "displayName": "Christian Steinert",
      "photoUrl": "",
      "userId": "14480600681092148199"
     },
     "user_tz": -120
    },
    "id": "eTDk6QgrZxxi"
   },
   "outputs": [],
   "source": [
    "# sentencepiece subword tokenizer\n",
    "import sentencepiece as spm\n",
    "\n",
    "# file access\n",
    "import os\n",
    "from glob import glob\n",
    "from pathlib import Path \n",
    "\n",
    "# progress bar and multiprocessing\n",
    "from tqdm.notebook import tqdm\n",
    "\n",
    "# helper stuff \n",
    "import itertools\n",
    "import traceback\n",
    "import sys\n",
    "from typing import List"
   ]
  },
  {
   "cell_type": "markdown",
   "metadata": {
    "id": "kcoXAbdQZxxk"
   },
   "source": [
    "## Configuration"
   ]
  },
  {
   "cell_type": "code",
   "execution_count": 49,
   "metadata": {
    "executionInfo": {
     "elapsed": 32,
     "status": "ok",
     "timestamp": 1623586837506,
     "user": {
      "displayName": "Christian Steinert",
      "photoUrl": "",
      "userId": "14480600681092148199"
     },
     "user_tz": -120
    },
    "id": "O8OtmU7YZxxm"
   },
   "outputs": [],
   "source": [
    "model_name = 'bo_classical'\n",
    "source_files = [folder_prefix+'data/tokenized/Corpora/BDRC/**/*.txt', folder_prefix+'data/tokenized/Corpora/Tibetan Dictionaries/**/*.txt']\n",
    "corpus_file_tokenized   = Path(temp_folder)/'corpus_tokenized-all.txt'\n",
    "corpus_file_untokenized = Path(temp_folder)/'corpus_untokenized-all.txt'\n",
    "models_path  = Path(folder_prefix+'data/models/tokenizers')\n",
    "os.makedirs(models_path, exist_ok=True)\n",
    "\n"
   ]
  },
  {
   "cell_type": "markdown",
   "metadata": {
    "id": "5CXSuj4qZxxn"
   },
   "source": [
    "## Merge Input Data into a Single File"
   ]
  },
  {
   "cell_type": "code",
   "execution_count": 50,
   "metadata": {
    "executionInfo": {
     "elapsed": 33,
     "status": "ok",
     "timestamp": 1623586837512,
     "user": {
      "displayName": "Christian Steinert",
      "photoUrl": "",
      "userId": "14480600681092148199"
     },
     "user_tz": -120
    },
    "id": "BmL0wa7IZxxo"
   },
   "outputs": [],
   "source": [
    "# undo the pre-existing tokenization that was done with the botok library\n",
    "def undo_tokenization(text):\n",
    "    for f, t in [(' ', ''), ('_', ' ')]:\n",
    "        text = text.replace(f, t)\n",
    "    return text\n",
    "\n",
    "# combine the entire corpus into a single file\n",
    "def combine_files(source_files, out_file, remove_pretokenization=False):\n",
    "    corpus = ''\n",
    "    n_sentences = 0\n",
    "    \n",
    "    \n",
    "    if out_file.is_file(): \n",
    "        return  # output file already exists -> do nothing\n",
    "    \n",
    "    # concatenate all files into a single one\n",
    "    for path_pattern in source_files:\n",
    "        for path in tqdm(glob(path_pattern, recursive=True)):\n",
    "            text = Path(path).read_text()\n",
    "\n",
    "            if remove_pretokenization: \n",
    "                text = undo_tokenization(text)\n",
    "\n",
    "            n_sentences += text.count('\\n')\n",
    "            corpus += text + '\\n'\n",
    "        \n",
    "    print('[INFO] No. sentences the corpus contains:', n_sentences)\n",
    "    out_file.write_text(corpus)\n",
    "\n"
   ]
  },
  {
   "cell_type": "code",
   "execution_count": 51,
   "metadata": {
    "colab": {
     "base_uri": "https://localhost:8080/",
     "height": 181,
     "referenced_widgets": [
      "7abfb1e14c494a6490d0173de9d9b8a6",
      "da5c6c4fa3f84b8b81cce1c89f11bb50",
      "89039bfebdd245068130f956320dbe70",
      "589557b3555648b0b60a6ca404bf2bbe",
      "7b586532545741eb9031ffa3d22b4498",
      "1d21b2e7d4d74679aa2f06b0b4433419",
      "67cc2bd81bfd4bbd8f6e26d298655894",
      "82c5251e222141489e30cba99e3ae59d",
      "a830e077ed474709a599f595c54a0e4e",
      "15c5ed1cdd6e487aa652af4ac8d8319e",
      "a9011763a91a41d8b1a665652972b4bf",
      "58d68acb91394e83837c4ccc8b22443a",
      "7975ad947cd64f749a122914be86a146",
      "8cb042bdee8c494285ae0563fa2f3af8",
      "fcb723637e8a4368a8142f0e5d46a764",
      "4b9672d3c6be4b4bb76e3207dffb4720",
      "aecf078487aa4cdf81d43e4039c9d528",
      "38ffe00c79254ce7839394584d92315d",
      "6a91078f85e14b1c9cb210f7e32c8fcf",
      "ac8a7709a94c4974a9ce986162d1264a",
      "10d19e8cee1744fb8d0d9ee4aa444f82",
      "0fd73e23d1124adc95fc47558e1477d3",
      "013f25fd80974b769d8e758e8c758857",
      "8532d075d5b74062af07490d2571a82d",
      "bfc1fa78a69e4f7faa3782133c1fe582",
      "fa3a2c3c3b9e433a8fc196c424e00422",
      "74e473f6785649519c87960fd17828d2",
      "9d61ac7b38464f6982a98376e6bc598a",
      "8ebcecba40564c1ebe5297fce92afaf3",
      "e328bf04c8d74fbf9a963f928f77f753",
      "24dffa9d192240208872ea78413eff12",
      "c1abdcc62a884e96aae390d7aae744c6",
      "dedc69752f2a4ffeaf8b0279d1a13052",
      "3e4345a9fc1545c69adcef5cc17bd1a6",
      "8c7106d094a4470fae8510e40190a3e9",
      "5f9d80266a2a4de4bbd2c961f2665ccc",
      "f7a3e29afd9f4e7594c87adc1a357c45",
      "d040833fb1b74beeb0d7246f13bc62eb",
      "d733348055ec4dde82ccfc86b19b82b9",
      "7a1c2a1f7e8c483e91d8ce1c120a5dd1",
      "c042c0c4ce7e4d0a816e2e1fb3bafb37",
      "2dd3ac9e92b14012a44e99e77d0983c2",
      "643f76d1e4464b44a50b0f15fc0c61a8",
      "efc1b0b53cee44b5b0813424742872ca"
     ]
    },
    "executionInfo": {
     "elapsed": 34596,
     "status": "ok",
     "timestamp": 1623586872078,
     "user": {
      "displayName": "Christian Steinert",
      "photoUrl": "",
      "userId": "14480600681092148199"
     },
     "user_tz": -120
    },
    "id": "fygSMDiuZxxq",
    "outputId": "132ae880-e5ce-4801-e605-672620780f55"
   },
   "outputs": [
    {
     "data": {
      "application/vnd.jupyter.widget-view+json": {
       "model_id": "7abfb1e14c494a6490d0173de9d9b8a6",
       "version_major": 2,
       "version_minor": 0
      },
      "text/plain": [
       "  0%|          | 0/24 [00:00<?, ?it/s]"
      ]
     },
     "metadata": {
      "tags": []
     },
     "output_type": "display_data"
    },
    {
     "data": {
      "application/vnd.jupyter.widget-view+json": {
       "model_id": "58d68acb91394e83837c4ccc8b22443a",
       "version_major": 2,
       "version_minor": 0
      },
      "text/plain": [
       "0it [00:00, ?it/s]"
      ]
     },
     "metadata": {
      "tags": []
     },
     "output_type": "display_data"
    },
    {
     "name": "stdout",
     "output_type": "stream",
     "text": [
      "[INFO] No. sentences the corpus contains: 244813\n"
     ]
    },
    {
     "data": {
      "application/vnd.jupyter.widget-view+json": {
       "model_id": "013f25fd80974b769d8e758e8c758857",
       "version_major": 2,
       "version_minor": 0
      },
      "text/plain": [
       "  0%|          | 0/24 [00:00<?, ?it/s]"
      ]
     },
     "metadata": {
      "tags": []
     },
     "output_type": "display_data"
    },
    {
     "data": {
      "application/vnd.jupyter.widget-view+json": {
       "model_id": "3e4345a9fc1545c69adcef5cc17bd1a6",
       "version_major": 2,
       "version_minor": 0
      },
      "text/plain": [
       "0it [00:00, ?it/s]"
      ]
     },
     "metadata": {
      "tags": []
     },
     "output_type": "display_data"
    },
    {
     "name": "stdout",
     "output_type": "stream",
     "text": [
      "[INFO] No. sentences the corpus contains: 244813\n"
     ]
    }
   ],
   "source": [
    "# combine the entire corpus into a single file \n",
    "\n",
    "# 1. create merged file for the complete corpus with existing word tokenization from the botok library\n",
    "combine_files(source_files, corpus_file_tokenized, remove_pretokenization = False)\n",
    "\n",
    "# 2. create merged file for the complete corpus without tokenization\n",
    "combine_files(source_files, corpus_file_untokenized, remove_pretokenization = True)"
   ]
  },
  {
   "cell_type": "code",
   "execution_count": 52,
   "metadata": {
    "executionInfo": {
     "elapsed": 79,
     "status": "ok",
     "timestamp": 1623586872090,
     "user": {
      "displayName": "Christian Steinert",
      "photoUrl": "",
      "userId": "14480600681092148199"
     },
     "user_tz": -120
    },
    "id": "nktLcAnhZxxt"
   },
   "outputs": [],
   "source": [
    "# !head {corpus_file_tokenized}"
   ]
  },
  {
   "cell_type": "code",
   "execution_count": 53,
   "metadata": {
    "executionInfo": {
     "elapsed": 75,
     "status": "ok",
     "timestamp": 1623586872093,
     "user": {
      "displayName": "Christian Steinert",
      "photoUrl": "",
      "userId": "14480600681092148199"
     },
     "user_tz": -120
    },
    "id": "gMrCECZIZxxv"
   },
   "outputs": [],
   "source": [
    "# !head {corpus_file_untokenized}"
   ]
  },
  {
   "cell_type": "code",
   "execution_count": 54,
   "metadata": {
    "executionInfo": {
     "elapsed": 71,
     "status": "ok",
     "timestamp": 1623586872095,
     "user": {
      "displayName": "Christian Steinert",
      "photoUrl": "",
      "userId": "14480600681092148199"
     },
     "user_tz": -120
    },
    "id": "lILOM9nBZxxw"
   },
   "outputs": [],
   "source": [
    "def train_sentencepiece_tokenizer(input_file, model_name, models_path, model_type='unigram', vocab_size=30000):\n",
    "    model_prefix = f'{model_name}-{model_type}'\n",
    "    \n",
    "    if (models_path/f'{model_prefix}.model').is_file():\n",
    "        return models_path/model_prefix\n",
    "\n",
    "    spm.SentencePieceTrainer.Train(\n",
    "    f'--input={input_file} \\\n",
    "      --model_prefix={model_prefix} \\\n",
    "      --vocab_size={vocab_size} \\\n",
    "      --model_type={model_type} \\\n",
    "      --character_coverage=0.9998 \\\n",
    "      --unk_id=0 \\\n",
    "      --pad_id=-1 \\\n",
    "      --bos_id=-1 \\\n",
    "      --eos_id=-1'\n",
    "    )\n",
    "\n",
    "    os.system(f'mv {model_prefix}.* \"{models_path}\"')\n",
    "    print(f'mv {model_prefix}.* \"{models_path}\"')\n",
    "    \n",
    "    return models_path/model_prefix"
   ]
  },
  {
   "cell_type": "markdown",
   "metadata": {
    "id": "6GVUMnLmZxxx"
   },
   "source": [
    "## Train sentencepiece models for subword tokenization"
   ]
  },
  {
   "cell_type": "markdown",
   "metadata": {
    "id": "uY7mPjZLK09s"
   },
   "source": [
    "### Create word-based model, based on pretokenized data that was previously processed by botok library"
   ]
  },
  {
   "cell_type": "code",
   "execution_count": 55,
   "metadata": {
    "colab": {
     "base_uri": "https://localhost:8080/"
    },
    "executionInfo": {
     "elapsed": 70,
     "status": "ok",
     "timestamp": 1623586872099,
     "user": {
      "displayName": "Christian Steinert",
      "photoUrl": "",
      "userId": "14480600681092148199"
     },
     "user_tz": -120
    },
    "id": "_ahTRrmBKncu",
    "outputId": "61225162-9c5e-4d4e-e951-e6c4f207e8c1"
   },
   "outputs": [
    {
     "name": "stdout",
     "output_type": "stream",
     "text": [
      "['▁ཀྱང་', '▁ཁ་ལོ་', '▁སྒྱུར་བ་', '▁ལ་', '▁གསུངས་པ', '▁།_', '▁ཁ་ལོ་', '▁སྒྱུར་བ་', '▁མི་སྐྱ་བོ་▁རྦབ་▁རྦབ་པོ་▁རིད་པ་', '▁ཉམ་ཆུང་བ་', '▁དབང་པོ་__', '▁ཉམས་པ', '▁།_', '▁སྐྱེ་བོ་', '▁མང་པོ', '▁འི་', '▁མིག་', '▁གིས་', '▁ཀྱང་', '▁ལྟ་', '▁མི་', '▁ཕོད་པ་', '▁འདི་', '▁ཅི་', '▁ཡིན', '▁།_']\n"
     ]
    }
   ],
   "source": [
    "model_path = train_sentencepiece_tokenizer(corpus_file_tokenized, model_name, models_path, model_type='word')\n",
    "sp = spm.SentencePieceProcessor()\n",
    "sp.load(f'{model_path}.model')\n",
    "\n",
    "#print(sp.encode_as_pieces('ཡིད་ དགའ་བ འི་ ལུས་ ཤིན་ཏུ་ སྦྱངས་པ ར་ འགྱུར་ རོ་ ཞེས་ འབྱུང་བ འི་ ཕྱིར་ རོ །_། ལུས་ མཉེན་པ ར་ བྱེད་པ་ ཞེས་ བྱ་བ་ ནི་ལ ས་ སུ་ རུང་བ ར་ བྱེད་པ འོ །_།'))\n",
    "print(sp.encode_as_pieces('ཀྱང་ ཁ་ལོ་ སྒྱུར་བ་ ལ་ གསུངས་པ །_ ཁ་ལོ་ སྒྱུར་བ་ མི་སྐྱ་བོ་ རྦབ་ རྦབ་པོ་ རིད་པ་ ཉམ་ཆུང་བ་ དབང་པོ་__ ཉམས་པ །_ སྐྱེ་བོ་ མང་པོ འི་ མིག་ གིས་ ཀྱང་ ལྟ་ མི་ ཕོད་པ་ འདི་ ཅི་ ཡིན །_'))\n"
   ]
  },
  {
   "cell_type": "markdown",
   "metadata": {
    "id": "EjF-r0yGZxxz"
   },
   "source": [
    "### BPE (Byte pair encoding) model"
   ]
  },
  {
   "cell_type": "code",
   "execution_count": 56,
   "metadata": {
    "colab": {
     "base_uri": "https://localhost:8080/"
    },
    "executionInfo": {
     "elapsed": 62,
     "status": "ok",
     "timestamp": 1623586872100,
     "user": {
      "displayName": "Christian Steinert",
      "photoUrl": "",
      "userId": "14480600681092148199"
     },
     "user_tz": -120
    },
    "id": "FK8Bg4bwZxxz",
    "outputId": "92fcfdf0-31d2-44b1-8b3f-72c9e3e3e43a"
   },
   "outputs": [
    {
     "name": "stdout",
     "output_type": "stream",
     "text": [
      "['▁ཀྱང་', 'ཁ་ལོ་སྒྱུར་བ', '་ལ་ག', 'སུ', 'ངས་པ', '།', '▁ཁ', '་ལ', 'ོ་སྒྱུར་བ', '་མི་སྐྱ', '་བ', 'ོ་ར', 'ྦ', 'བ', '་ར', 'ྦ', 'བ་པ', 'ོ་རི', 'ད་པ', '་ཉ', 'མ་', 'ཆུང་བ', '་དབང་', 'པོ་', 'ཉམས་པ', '།', '▁སྐྱེ་བོ་མང་པོ', 'འི་མིག', '་གིས་', 'ཀྱང་', 'ལྟ', '་མི་', 'ཕ', 'ོད་པ', '་འདི་', 'ཅི་', 'ཡིན།']\n"
     ]
    }
   ],
   "source": [
    "model_path = train_sentencepiece_tokenizer(corpus_file_untokenized, model_name, models_path, model_type='bpe')\n",
    "\n",
    "sp = spm.SentencePieceProcessor()\n",
    "sp.load(f'{model_path}.model')\n",
    "\n",
    "print(sp.encode_as_pieces('ཀྱང་ཁ་ལོ་སྒྱུར་བ་ལ་གསུངས་པ། ཁ་ལོ་སྒྱུར་བ་མི་སྐྱ་བོ་རྦབ་རྦབ་པོ་རིད་པ་ཉམ་ཆུང་བ་དབང་པོ་ཉམས་པ། སྐྱེ་བོ་མང་པོའི་མིག་གིས་ཀྱང་ལྟ་མི་ཕོད་པ་འདི་ཅི་ཡིན།'))"
   ]
  },
  {
   "cell_type": "markdown",
   "metadata": {
    "id": "tP05f0XJZxx0"
   },
   "source": [
    "### Create unigram model with sentencepiece"
   ]
  },
  {
   "cell_type": "code",
   "execution_count": 57,
   "metadata": {
    "colab": {
     "base_uri": "https://localhost:8080/"
    },
    "executionInfo": {
     "elapsed": 64,
     "status": "ok",
     "timestamp": 1623586872107,
     "user": {
      "displayName": "Christian Steinert",
      "photoUrl": "",
      "userId": "14480600681092148199"
     },
     "user_tz": -120
    },
    "id": "3KkKuSytZxx1",
    "outputId": "6b53f7f2-e861-4f40-d192-869e86c9f4da"
   },
   "outputs": [
    {
     "name": "stdout",
     "output_type": "stream",
     "text": [
      "['▁ཀྱང་', 'ཁ་ལོ་སྒྱུར་བ་', 'ལ་', 'གསུངས་པ', '།', '▁', 'ཁ་ལོ་སྒྱུར་བ་', 'མི་', 'སྐྱ', '་བོ', '་', 'ར', 'ྦ', 'བ་', 'ར', 'ྦ', 'བ་', 'པོ་', 'རི', 'ད་པ་', 'ཉམ་ཆུང་', 'བ་', 'དབང་པོ་', 'ཉམས་པ', '།', '▁', 'སྐྱེ་བོ་མང་པོའི་', 'མིག་གིས་', 'ཀྱང་', 'ལྟ་', 'མི་ཕོད', '་པ་', 'འདི་', 'ཅི་', 'ཡིན།']\n"
     ]
    }
   ],
   "source": [
    "model_path = train_sentencepiece_tokenizer(corpus_file_untokenized, model_name, models_path, model_type='unigram')\n",
    "\n",
    "sp = spm.SentencePieceProcessor()\n",
    "sp.load(f'{model_path}.model')\n",
    "\n",
    "print(sp.encode_as_pieces('ཀྱང་ཁ་ལོ་སྒྱུར་བ་ལ་གསུངས་པ། ཁ་ལོ་སྒྱུར་བ་མི་སྐྱ་བོ་རྦབ་རྦབ་པོ་རིད་པ་ཉམ་ཆུང་བ་དབང་པོ་ཉམས་པ། སྐྱེ་བོ་མང་པོའི་མིག་གིས་ཀྱང་ལྟ་མི་ཕོད་པ་འདི་ཅི་ཡིན།'))"
   ]
  },
  {
   "cell_type": "markdown",
   "metadata": {
    "id": "JVEjHJPYZxx2"
   },
   "source": [
    "## Cleanup"
   ]
  },
  {
   "cell_type": "code",
   "execution_count": 59,
   "metadata": {
    "colab": {
     "base_uri": "https://localhost:8080/",
     "height": 333
    },
    "executionInfo": {
     "elapsed": 419,
     "status": "error",
     "timestamp": 1623586891065,
     "user": {
      "displayName": "Christian Steinert",
      "photoUrl": "",
      "userId": "14480600681092148199"
     },
     "user_tz": -120
    },
    "id": "Z2JfP4jNZxx2",
    "outputId": "ab10440e-6e63-4c34-d57d-7fa9b8cf2d29"
   },
   "outputs": [
    {
     "ename": "FileNotFoundError",
     "evalue": "ignored",
     "output_type": "error",
     "traceback": [
      "\u001b[0;31m---------------------------------------------------------------------------\u001b[0m",
      "\u001b[0;31mFileNotFoundError\u001b[0m                         Traceback (most recent call last)",
      "\u001b[0;32m<ipython-input-59-8e6deb259d37>\u001b[0m in \u001b[0;36m<module>\u001b[0;34m()\u001b[0m\n\u001b[1;32m      1\u001b[0m \u001b[0;31m# delete the combined files with the entire corpus\u001b[0m\u001b[0;34m\u001b[0m\u001b[0;34m\u001b[0m\u001b[0;34m\u001b[0m\u001b[0m\n\u001b[0;32m----> 2\u001b[0;31m \u001b[0mcorpus_file_tokenized\u001b[0m\u001b[0;34m.\u001b[0m\u001b[0munlink\u001b[0m\u001b[0;34m(\u001b[0m\u001b[0;34m)\u001b[0m\u001b[0;34m\u001b[0m\u001b[0;34m\u001b[0m\u001b[0m\n\u001b[0m\u001b[1;32m      3\u001b[0m \u001b[0mcorpus_file_untokenized\u001b[0m\u001b[0;34m.\u001b[0m\u001b[0munlink\u001b[0m\u001b[0;34m(\u001b[0m\u001b[0;34m)\u001b[0m\u001b[0;34m\u001b[0m\u001b[0;34m\u001b[0m\u001b[0m\n",
      "\u001b[0;32m/usr/lib/python3.7/pathlib.py\u001b[0m in \u001b[0;36munlink\u001b[0;34m(self)\u001b[0m\n\u001b[1;32m   1307\u001b[0m         \u001b[0;32mif\u001b[0m \u001b[0mself\u001b[0m\u001b[0;34m.\u001b[0m\u001b[0m_closed\u001b[0m\u001b[0;34m:\u001b[0m\u001b[0;34m\u001b[0m\u001b[0;34m\u001b[0m\u001b[0m\n\u001b[1;32m   1308\u001b[0m             \u001b[0mself\u001b[0m\u001b[0;34m.\u001b[0m\u001b[0m_raise_closed\u001b[0m\u001b[0;34m(\u001b[0m\u001b[0;34m)\u001b[0m\u001b[0;34m\u001b[0m\u001b[0;34m\u001b[0m\u001b[0m\n\u001b[0;32m-> 1309\u001b[0;31m         \u001b[0mself\u001b[0m\u001b[0;34m.\u001b[0m\u001b[0m_accessor\u001b[0m\u001b[0;34m.\u001b[0m\u001b[0munlink\u001b[0m\u001b[0;34m(\u001b[0m\u001b[0mself\u001b[0m\u001b[0;34m)\u001b[0m\u001b[0;34m\u001b[0m\u001b[0;34m\u001b[0m\u001b[0m\n\u001b[0m\u001b[1;32m   1310\u001b[0m \u001b[0;34m\u001b[0m\u001b[0m\n\u001b[1;32m   1311\u001b[0m     \u001b[0;32mdef\u001b[0m \u001b[0mrmdir\u001b[0m\u001b[0;34m(\u001b[0m\u001b[0mself\u001b[0m\u001b[0;34m)\u001b[0m\u001b[0;34m:\u001b[0m\u001b[0;34m\u001b[0m\u001b[0;34m\u001b[0m\u001b[0m\n",
      "\u001b[0;31mFileNotFoundError\u001b[0m: [Errno 2] No such file or directory: '/tmp/corpus_tokenized-all.txt'"
     ]
    }
   ],
   "source": [
    "# delete the combined files with the entire corpus\n",
    "corpus_file_tokenized.unlink()\n",
    "corpus_file_untokenized.unlink()\n"
   ]
  },
  {
   "cell_type": "code",
   "execution_count": null,
   "metadata": {
    "id": "4BUTO1y5Zxx3"
   },
   "outputs": [],
   "source": []
  }
 ],
 "metadata": {
  "colab": {
   "name": "02_TrainSentencePieceTokenizer.ipynb",
   "provenance": []
  },
  "kernelspec": {
   "display_name": "Python 3",
   "language": "python",
   "name": "python3"
  },
  "language_info": {
   "codemirror_mode": {
    "name": "ipython",
    "version": 3
   },
   "file_extension": ".py",
   "mimetype": "text/x-python",
   "name": "python",
   "nbconvert_exporter": "python",
   "pygments_lexer": "ipython3",
   "version": "3.9.10"
  },
  "widgets": {
   "application/vnd.jupyter.widget-state+json": {
    "013f25fd80974b769d8e758e8c758857": {
     "model_module": "@jupyter-widgets/controls",
     "model_name": "HBoxModel",
     "state": {
      "_dom_classes": [],
      "_model_module": "@jupyter-widgets/controls",
      "_model_module_version": "1.5.0",
      "_model_name": "HBoxModel",
      "_view_count": null,
      "_view_module": "@jupyter-widgets/controls",
      "_view_module_version": "1.5.0",
      "_view_name": "HBoxView",
      "box_style": "",
      "children": [
       "IPY_MODEL_bfc1fa78a69e4f7faa3782133c1fe582",
       "IPY_MODEL_fa3a2c3c3b9e433a8fc196c424e00422",
       "IPY_MODEL_74e473f6785649519c87960fd17828d2"
      ],
      "layout": "IPY_MODEL_8532d075d5b74062af07490d2571a82d"
     }
    },
    "0fd73e23d1124adc95fc47558e1477d3": {
     "model_module": "@jupyter-widgets/base",
     "model_name": "LayoutModel",
     "state": {
      "_model_module": "@jupyter-widgets/base",
      "_model_module_version": "1.2.0",
      "_model_name": "LayoutModel",
      "_view_count": null,
      "_view_module": "@jupyter-widgets/base",
      "_view_module_version": "1.2.0",
      "_view_name": "LayoutView",
      "align_content": null,
      "align_items": null,
      "align_self": null,
      "border": null,
      "bottom": null,
      "display": null,
      "flex": null,
      "flex_flow": null,
      "grid_area": null,
      "grid_auto_columns": null,
      "grid_auto_flow": null,
      "grid_auto_rows": null,
      "grid_column": null,
      "grid_gap": null,
      "grid_row": null,
      "grid_template_areas": null,
      "grid_template_columns": null,
      "grid_template_rows": null,
      "height": null,
      "justify_content": null,
      "justify_items": null,
      "left": null,
      "margin": null,
      "max_height": null,
      "max_width": null,
      "min_height": null,
      "min_width": null,
      "object_fit": null,
      "object_position": null,
      "order": null,
      "overflow": null,
      "overflow_x": null,
      "overflow_y": null,
      "padding": null,
      "right": null,
      "top": null,
      "visibility": null,
      "width": null
     }
    },
    "10d19e8cee1744fb8d0d9ee4aa444f82": {
     "model_module": "@jupyter-widgets/controls",
     "model_name": "DescriptionStyleModel",
     "state": {
      "_model_module": "@jupyter-widgets/controls",
      "_model_module_version": "1.5.0",
      "_model_name": "DescriptionStyleModel",
      "_view_count": null,
      "_view_module": "@jupyter-widgets/base",
      "_view_module_version": "1.2.0",
      "_view_name": "StyleView",
      "description_width": ""
     }
    },
    "15c5ed1cdd6e487aa652af4ac8d8319e": {
     "model_module": "@jupyter-widgets/controls",
     "model_name": "DescriptionStyleModel",
     "state": {
      "_model_module": "@jupyter-widgets/controls",
      "_model_module_version": "1.5.0",
      "_model_name": "DescriptionStyleModel",
      "_view_count": null,
      "_view_module": "@jupyter-widgets/base",
      "_view_module_version": "1.2.0",
      "_view_name": "StyleView",
      "description_width": ""
     }
    },
    "1d21b2e7d4d74679aa2f06b0b4433419": {
     "model_module": "@jupyter-widgets/controls",
     "model_name": "DescriptionStyleModel",
     "state": {
      "_model_module": "@jupyter-widgets/controls",
      "_model_module_version": "1.5.0",
      "_model_name": "DescriptionStyleModel",
      "_view_count": null,
      "_view_module": "@jupyter-widgets/base",
      "_view_module_version": "1.2.0",
      "_view_name": "StyleView",
      "description_width": ""
     }
    },
    "24dffa9d192240208872ea78413eff12": {
     "model_module": "@jupyter-widgets/base",
     "model_name": "LayoutModel",
     "state": {
      "_model_module": "@jupyter-widgets/base",
      "_model_module_version": "1.2.0",
      "_model_name": "LayoutModel",
      "_view_count": null,
      "_view_module": "@jupyter-widgets/base",
      "_view_module_version": "1.2.0",
      "_view_name": "LayoutView",
      "align_content": null,
      "align_items": null,
      "align_self": null,
      "border": null,
      "bottom": null,
      "display": null,
      "flex": null,
      "flex_flow": null,
      "grid_area": null,
      "grid_auto_columns": null,
      "grid_auto_flow": null,
      "grid_auto_rows": null,
      "grid_column": null,
      "grid_gap": null,
      "grid_row": null,
      "grid_template_areas": null,
      "grid_template_columns": null,
      "grid_template_rows": null,
      "height": null,
      "justify_content": null,
      "justify_items": null,
      "left": null,
      "margin": null,
      "max_height": null,
      "max_width": null,
      "min_height": null,
      "min_width": null,
      "object_fit": null,
      "object_position": null,
      "order": null,
      "overflow": null,
      "overflow_x": null,
      "overflow_y": null,
      "padding": null,
      "right": null,
      "top": null,
      "visibility": null,
      "width": null
     }
    },
    "2dd3ac9e92b14012a44e99e77d0983c2": {
     "model_module": "@jupyter-widgets/base",
     "model_name": "LayoutModel",
     "state": {
      "_model_module": "@jupyter-widgets/base",
      "_model_module_version": "1.2.0",
      "_model_name": "LayoutModel",
      "_view_count": null,
      "_view_module": "@jupyter-widgets/base",
      "_view_module_version": "1.2.0",
      "_view_name": "LayoutView",
      "align_content": null,
      "align_items": null,
      "align_self": null,
      "border": null,
      "bottom": null,
      "display": null,
      "flex": null,
      "flex_flow": null,
      "grid_area": null,
      "grid_auto_columns": null,
      "grid_auto_flow": null,
      "grid_auto_rows": null,
      "grid_column": null,
      "grid_gap": null,
      "grid_row": null,
      "grid_template_areas": null,
      "grid_template_columns": null,
      "grid_template_rows": null,
      "height": null,
      "justify_content": null,
      "justify_items": null,
      "left": null,
      "margin": null,
      "max_height": null,
      "max_width": null,
      "min_height": null,
      "min_width": null,
      "object_fit": null,
      "object_position": null,
      "order": null,
      "overflow": null,
      "overflow_x": null,
      "overflow_y": null,
      "padding": null,
      "right": null,
      "top": null,
      "visibility": null,
      "width": "20px"
     }
    },
    "38ffe00c79254ce7839394584d92315d": {
     "model_module": "@jupyter-widgets/base",
     "model_name": "LayoutModel",
     "state": {
      "_model_module": "@jupyter-widgets/base",
      "_model_module_version": "1.2.0",
      "_model_name": "LayoutModel",
      "_view_count": null,
      "_view_module": "@jupyter-widgets/base",
      "_view_module_version": "1.2.0",
      "_view_name": "LayoutView",
      "align_content": null,
      "align_items": null,
      "align_self": null,
      "border": null,
      "bottom": null,
      "display": null,
      "flex": null,
      "flex_flow": null,
      "grid_area": null,
      "grid_auto_columns": null,
      "grid_auto_flow": null,
      "grid_auto_rows": null,
      "grid_column": null,
      "grid_gap": null,
      "grid_row": null,
      "grid_template_areas": null,
      "grid_template_columns": null,
      "grid_template_rows": null,
      "height": null,
      "justify_content": null,
      "justify_items": null,
      "left": null,
      "margin": null,
      "max_height": null,
      "max_width": null,
      "min_height": null,
      "min_width": null,
      "object_fit": null,
      "object_position": null,
      "order": null,
      "overflow": null,
      "overflow_x": null,
      "overflow_y": null,
      "padding": null,
      "right": null,
      "top": null,
      "visibility": null,
      "width": null
     }
    },
    "3e4345a9fc1545c69adcef5cc17bd1a6": {
     "model_module": "@jupyter-widgets/controls",
     "model_name": "HBoxModel",
     "state": {
      "_dom_classes": [],
      "_model_module": "@jupyter-widgets/controls",
      "_model_module_version": "1.5.0",
      "_model_name": "HBoxModel",
      "_view_count": null,
      "_view_module": "@jupyter-widgets/controls",
      "_view_module_version": "1.5.0",
      "_view_name": "HBoxView",
      "box_style": "",
      "children": [
       "IPY_MODEL_5f9d80266a2a4de4bbd2c961f2665ccc",
       "IPY_MODEL_f7a3e29afd9f4e7594c87adc1a357c45",
       "IPY_MODEL_d040833fb1b74beeb0d7246f13bc62eb"
      ],
      "layout": "IPY_MODEL_8c7106d094a4470fae8510e40190a3e9"
     }
    },
    "4b9672d3c6be4b4bb76e3207dffb4720": {
     "model_module": "@jupyter-widgets/controls",
     "model_name": "HTMLModel",
     "state": {
      "_dom_classes": [],
      "_model_module": "@jupyter-widgets/controls",
      "_model_module_version": "1.5.0",
      "_model_name": "HTMLModel",
      "_view_count": null,
      "_view_module": "@jupyter-widgets/controls",
      "_view_module_version": "1.5.0",
      "_view_name": "HTMLView",
      "description": "",
      "description_tooltip": null,
      "layout": "IPY_MODEL_0fd73e23d1124adc95fc47558e1477d3",
      "placeholder": "​",
      "style": "IPY_MODEL_10d19e8cee1744fb8d0d9ee4aa444f82",
      "value": " 0/0 [00:00&lt;?, ?it/s]"
     }
    },
    "589557b3555648b0b60a6ca404bf2bbe": {
     "model_module": "@jupyter-widgets/controls",
     "model_name": "FloatProgressModel",
     "state": {
      "_dom_classes": [],
      "_model_module": "@jupyter-widgets/controls",
      "_model_module_version": "1.5.0",
      "_model_name": "FloatProgressModel",
      "_view_count": null,
      "_view_module": "@jupyter-widgets/controls",
      "_view_module_version": "1.5.0",
      "_view_name": "ProgressView",
      "bar_style": "success",
      "description": "",
      "description_tooltip": null,
      "layout": "IPY_MODEL_a830e077ed474709a599f595c54a0e4e",
      "max": 24,
      "min": 0,
      "orientation": "horizontal",
      "style": "IPY_MODEL_82c5251e222141489e30cba99e3ae59d",
      "value": 24
     }
    },
    "58d68acb91394e83837c4ccc8b22443a": {
     "model_module": "@jupyter-widgets/controls",
     "model_name": "HBoxModel",
     "state": {
      "_dom_classes": [],
      "_model_module": "@jupyter-widgets/controls",
      "_model_module_version": "1.5.0",
      "_model_name": "HBoxModel",
      "_view_count": null,
      "_view_module": "@jupyter-widgets/controls",
      "_view_module_version": "1.5.0",
      "_view_name": "HBoxView",
      "box_style": "",
      "children": [
       "IPY_MODEL_8cb042bdee8c494285ae0563fa2f3af8",
       "IPY_MODEL_fcb723637e8a4368a8142f0e5d46a764",
       "IPY_MODEL_4b9672d3c6be4b4bb76e3207dffb4720"
      ],
      "layout": "IPY_MODEL_7975ad947cd64f749a122914be86a146"
     }
    },
    "5f9d80266a2a4de4bbd2c961f2665ccc": {
     "model_module": "@jupyter-widgets/controls",
     "model_name": "HTMLModel",
     "state": {
      "_dom_classes": [],
      "_model_module": "@jupyter-widgets/controls",
      "_model_module_version": "1.5.0",
      "_model_name": "HTMLModel",
      "_view_count": null,
      "_view_module": "@jupyter-widgets/controls",
      "_view_module_version": "1.5.0",
      "_view_name": "HTMLView",
      "description": "",
      "description_tooltip": null,
      "layout": "IPY_MODEL_7a1c2a1f7e8c483e91d8ce1c120a5dd1",
      "placeholder": "​",
      "style": "IPY_MODEL_d733348055ec4dde82ccfc86b19b82b9",
      "value": ""
     }
    },
    "643f76d1e4464b44a50b0f15fc0c61a8": {
     "model_module": "@jupyter-widgets/controls",
     "model_name": "DescriptionStyleModel",
     "state": {
      "_model_module": "@jupyter-widgets/controls",
      "_model_module_version": "1.5.0",
      "_model_name": "DescriptionStyleModel",
      "_view_count": null,
      "_view_module": "@jupyter-widgets/base",
      "_view_module_version": "1.2.0",
      "_view_name": "StyleView",
      "description_width": ""
     }
    },
    "67cc2bd81bfd4bbd8f6e26d298655894": {
     "model_module": "@jupyter-widgets/base",
     "model_name": "LayoutModel",
     "state": {
      "_model_module": "@jupyter-widgets/base",
      "_model_module_version": "1.2.0",
      "_model_name": "LayoutModel",
      "_view_count": null,
      "_view_module": "@jupyter-widgets/base",
      "_view_module_version": "1.2.0",
      "_view_name": "LayoutView",
      "align_content": null,
      "align_items": null,
      "align_self": null,
      "border": null,
      "bottom": null,
      "display": null,
      "flex": null,
      "flex_flow": null,
      "grid_area": null,
      "grid_auto_columns": null,
      "grid_auto_flow": null,
      "grid_auto_rows": null,
      "grid_column": null,
      "grid_gap": null,
      "grid_row": null,
      "grid_template_areas": null,
      "grid_template_columns": null,
      "grid_template_rows": null,
      "height": null,
      "justify_content": null,
      "justify_items": null,
      "left": null,
      "margin": null,
      "max_height": null,
      "max_width": null,
      "min_height": null,
      "min_width": null,
      "object_fit": null,
      "object_position": null,
      "order": null,
      "overflow": null,
      "overflow_x": null,
      "overflow_y": null,
      "padding": null,
      "right": null,
      "top": null,
      "visibility": null,
      "width": null
     }
    },
    "6a91078f85e14b1c9cb210f7e32c8fcf": {
     "model_module": "@jupyter-widgets/controls",
     "model_name": "ProgressStyleModel",
     "state": {
      "_model_module": "@jupyter-widgets/controls",
      "_model_module_version": "1.5.0",
      "_model_name": "ProgressStyleModel",
      "_view_count": null,
      "_view_module": "@jupyter-widgets/base",
      "_view_module_version": "1.2.0",
      "_view_name": "StyleView",
      "bar_color": null,
      "description_width": ""
     }
    },
    "74e473f6785649519c87960fd17828d2": {
     "model_module": "@jupyter-widgets/controls",
     "model_name": "HTMLModel",
     "state": {
      "_dom_classes": [],
      "_model_module": "@jupyter-widgets/controls",
      "_model_module_version": "1.5.0",
      "_model_name": "HTMLModel",
      "_view_count": null,
      "_view_module": "@jupyter-widgets/controls",
      "_view_module_version": "1.5.0",
      "_view_name": "HTMLView",
      "description": "",
      "description_tooltip": null,
      "layout": "IPY_MODEL_dedc69752f2a4ffeaf8b0279d1a13052",
      "placeholder": "​",
      "style": "IPY_MODEL_c1abdcc62a884e96aae390d7aae744c6",
      "value": " 24/24 [00:00&lt;00:00, 27.60it/s]"
     }
    },
    "7975ad947cd64f749a122914be86a146": {
     "model_module": "@jupyter-widgets/base",
     "model_name": "LayoutModel",
     "state": {
      "_model_module": "@jupyter-widgets/base",
      "_model_module_version": "1.2.0",
      "_model_name": "LayoutModel",
      "_view_count": null,
      "_view_module": "@jupyter-widgets/base",
      "_view_module_version": "1.2.0",
      "_view_name": "LayoutView",
      "align_content": null,
      "align_items": null,
      "align_self": null,
      "border": null,
      "bottom": null,
      "display": null,
      "flex": null,
      "flex_flow": null,
      "grid_area": null,
      "grid_auto_columns": null,
      "grid_auto_flow": null,
      "grid_auto_rows": null,
      "grid_column": null,
      "grid_gap": null,
      "grid_row": null,
      "grid_template_areas": null,
      "grid_template_columns": null,
      "grid_template_rows": null,
      "height": null,
      "justify_content": null,
      "justify_items": null,
      "left": null,
      "margin": null,
      "max_height": null,
      "max_width": null,
      "min_height": null,
      "min_width": null,
      "object_fit": null,
      "object_position": null,
      "order": null,
      "overflow": null,
      "overflow_x": null,
      "overflow_y": null,
      "padding": null,
      "right": null,
      "top": null,
      "visibility": null,
      "width": null
     }
    },
    "7a1c2a1f7e8c483e91d8ce1c120a5dd1": {
     "model_module": "@jupyter-widgets/base",
     "model_name": "LayoutModel",
     "state": {
      "_model_module": "@jupyter-widgets/base",
      "_model_module_version": "1.2.0",
      "_model_name": "LayoutModel",
      "_view_count": null,
      "_view_module": "@jupyter-widgets/base",
      "_view_module_version": "1.2.0",
      "_view_name": "LayoutView",
      "align_content": null,
      "align_items": null,
      "align_self": null,
      "border": null,
      "bottom": null,
      "display": null,
      "flex": null,
      "flex_flow": null,
      "grid_area": null,
      "grid_auto_columns": null,
      "grid_auto_flow": null,
      "grid_auto_rows": null,
      "grid_column": null,
      "grid_gap": null,
      "grid_row": null,
      "grid_template_areas": null,
      "grid_template_columns": null,
      "grid_template_rows": null,
      "height": null,
      "justify_content": null,
      "justify_items": null,
      "left": null,
      "margin": null,
      "max_height": null,
      "max_width": null,
      "min_height": null,
      "min_width": null,
      "object_fit": null,
      "object_position": null,
      "order": null,
      "overflow": null,
      "overflow_x": null,
      "overflow_y": null,
      "padding": null,
      "right": null,
      "top": null,
      "visibility": null,
      "width": null
     }
    },
    "7abfb1e14c494a6490d0173de9d9b8a6": {
     "model_module": "@jupyter-widgets/controls",
     "model_name": "HBoxModel",
     "state": {
      "_dom_classes": [],
      "_model_module": "@jupyter-widgets/controls",
      "_model_module_version": "1.5.0",
      "_model_name": "HBoxModel",
      "_view_count": null,
      "_view_module": "@jupyter-widgets/controls",
      "_view_module_version": "1.5.0",
      "_view_name": "HBoxView",
      "box_style": "",
      "children": [
       "IPY_MODEL_89039bfebdd245068130f956320dbe70",
       "IPY_MODEL_589557b3555648b0b60a6ca404bf2bbe",
       "IPY_MODEL_7b586532545741eb9031ffa3d22b4498"
      ],
      "layout": "IPY_MODEL_da5c6c4fa3f84b8b81cce1c89f11bb50"
     }
    },
    "7b586532545741eb9031ffa3d22b4498": {
     "model_module": "@jupyter-widgets/controls",
     "model_name": "HTMLModel",
     "state": {
      "_dom_classes": [],
      "_model_module": "@jupyter-widgets/controls",
      "_model_module_version": "1.5.0",
      "_model_name": "HTMLModel",
      "_view_count": null,
      "_view_module": "@jupyter-widgets/controls",
      "_view_module_version": "1.5.0",
      "_view_name": "HTMLView",
      "description": "",
      "description_tooltip": null,
      "layout": "IPY_MODEL_a9011763a91a41d8b1a665652972b4bf",
      "placeholder": "​",
      "style": "IPY_MODEL_15c5ed1cdd6e487aa652af4ac8d8319e",
      "value": " 24/24 [00:27&lt;00:00,  1.18s/it]"
     }
    },
    "82c5251e222141489e30cba99e3ae59d": {
     "model_module": "@jupyter-widgets/controls",
     "model_name": "ProgressStyleModel",
     "state": {
      "_model_module": "@jupyter-widgets/controls",
      "_model_module_version": "1.5.0",
      "_model_name": "ProgressStyleModel",
      "_view_count": null,
      "_view_module": "@jupyter-widgets/base",
      "_view_module_version": "1.2.0",
      "_view_name": "StyleView",
      "bar_color": null,
      "description_width": ""
     }
    },
    "8532d075d5b74062af07490d2571a82d": {
     "model_module": "@jupyter-widgets/base",
     "model_name": "LayoutModel",
     "state": {
      "_model_module": "@jupyter-widgets/base",
      "_model_module_version": "1.2.0",
      "_model_name": "LayoutModel",
      "_view_count": null,
      "_view_module": "@jupyter-widgets/base",
      "_view_module_version": "1.2.0",
      "_view_name": "LayoutView",
      "align_content": null,
      "align_items": null,
      "align_self": null,
      "border": null,
      "bottom": null,
      "display": null,
      "flex": null,
      "flex_flow": null,
      "grid_area": null,
      "grid_auto_columns": null,
      "grid_auto_flow": null,
      "grid_auto_rows": null,
      "grid_column": null,
      "grid_gap": null,
      "grid_row": null,
      "grid_template_areas": null,
      "grid_template_columns": null,
      "grid_template_rows": null,
      "height": null,
      "justify_content": null,
      "justify_items": null,
      "left": null,
      "margin": null,
      "max_height": null,
      "max_width": null,
      "min_height": null,
      "min_width": null,
      "object_fit": null,
      "object_position": null,
      "order": null,
      "overflow": null,
      "overflow_x": null,
      "overflow_y": null,
      "padding": null,
      "right": null,
      "top": null,
      "visibility": null,
      "width": null
     }
    },
    "89039bfebdd245068130f956320dbe70": {
     "model_module": "@jupyter-widgets/controls",
     "model_name": "HTMLModel",
     "state": {
      "_dom_classes": [],
      "_model_module": "@jupyter-widgets/controls",
      "_model_module_version": "1.5.0",
      "_model_name": "HTMLModel",
      "_view_count": null,
      "_view_module": "@jupyter-widgets/controls",
      "_view_module_version": "1.5.0",
      "_view_name": "HTMLView",
      "description": "",
      "description_tooltip": null,
      "layout": "IPY_MODEL_67cc2bd81bfd4bbd8f6e26d298655894",
      "placeholder": "​",
      "style": "IPY_MODEL_1d21b2e7d4d74679aa2f06b0b4433419",
      "value": "100%"
     }
    },
    "8c7106d094a4470fae8510e40190a3e9": {
     "model_module": "@jupyter-widgets/base",
     "model_name": "LayoutModel",
     "state": {
      "_model_module": "@jupyter-widgets/base",
      "_model_module_version": "1.2.0",
      "_model_name": "LayoutModel",
      "_view_count": null,
      "_view_module": "@jupyter-widgets/base",
      "_view_module_version": "1.2.0",
      "_view_name": "LayoutView",
      "align_content": null,
      "align_items": null,
      "align_self": null,
      "border": null,
      "bottom": null,
      "display": null,
      "flex": null,
      "flex_flow": null,
      "grid_area": null,
      "grid_auto_columns": null,
      "grid_auto_flow": null,
      "grid_auto_rows": null,
      "grid_column": null,
      "grid_gap": null,
      "grid_row": null,
      "grid_template_areas": null,
      "grid_template_columns": null,
      "grid_template_rows": null,
      "height": null,
      "justify_content": null,
      "justify_items": null,
      "left": null,
      "margin": null,
      "max_height": null,
      "max_width": null,
      "min_height": null,
      "min_width": null,
      "object_fit": null,
      "object_position": null,
      "order": null,
      "overflow": null,
      "overflow_x": null,
      "overflow_y": null,
      "padding": null,
      "right": null,
      "top": null,
      "visibility": null,
      "width": null
     }
    },
    "8cb042bdee8c494285ae0563fa2f3af8": {
     "model_module": "@jupyter-widgets/controls",
     "model_name": "HTMLModel",
     "state": {
      "_dom_classes": [],
      "_model_module": "@jupyter-widgets/controls",
      "_model_module_version": "1.5.0",
      "_model_name": "HTMLModel",
      "_view_count": null,
      "_view_module": "@jupyter-widgets/controls",
      "_view_module_version": "1.5.0",
      "_view_name": "HTMLView",
      "description": "",
      "description_tooltip": null,
      "layout": "IPY_MODEL_38ffe00c79254ce7839394584d92315d",
      "placeholder": "​",
      "style": "IPY_MODEL_aecf078487aa4cdf81d43e4039c9d528",
      "value": ""
     }
    },
    "8ebcecba40564c1ebe5297fce92afaf3": {
     "model_module": "@jupyter-widgets/base",
     "model_name": "LayoutModel",
     "state": {
      "_model_module": "@jupyter-widgets/base",
      "_model_module_version": "1.2.0",
      "_model_name": "LayoutModel",
      "_view_count": null,
      "_view_module": "@jupyter-widgets/base",
      "_view_module_version": "1.2.0",
      "_view_name": "LayoutView",
      "align_content": null,
      "align_items": null,
      "align_self": null,
      "border": null,
      "bottom": null,
      "display": null,
      "flex": null,
      "flex_flow": null,
      "grid_area": null,
      "grid_auto_columns": null,
      "grid_auto_flow": null,
      "grid_auto_rows": null,
      "grid_column": null,
      "grid_gap": null,
      "grid_row": null,
      "grid_template_areas": null,
      "grid_template_columns": null,
      "grid_template_rows": null,
      "height": null,
      "justify_content": null,
      "justify_items": null,
      "left": null,
      "margin": null,
      "max_height": null,
      "max_width": null,
      "min_height": null,
      "min_width": null,
      "object_fit": null,
      "object_position": null,
      "order": null,
      "overflow": null,
      "overflow_x": null,
      "overflow_y": null,
      "padding": null,
      "right": null,
      "top": null,
      "visibility": null,
      "width": null
     }
    },
    "9d61ac7b38464f6982a98376e6bc598a": {
     "model_module": "@jupyter-widgets/controls",
     "model_name": "DescriptionStyleModel",
     "state": {
      "_model_module": "@jupyter-widgets/controls",
      "_model_module_version": "1.5.0",
      "_model_name": "DescriptionStyleModel",
      "_view_count": null,
      "_view_module": "@jupyter-widgets/base",
      "_view_module_version": "1.2.0",
      "_view_name": "StyleView",
      "description_width": ""
     }
    },
    "a830e077ed474709a599f595c54a0e4e": {
     "model_module": "@jupyter-widgets/base",
     "model_name": "LayoutModel",
     "state": {
      "_model_module": "@jupyter-widgets/base",
      "_model_module_version": "1.2.0",
      "_model_name": "LayoutModel",
      "_view_count": null,
      "_view_module": "@jupyter-widgets/base",
      "_view_module_version": "1.2.0",
      "_view_name": "LayoutView",
      "align_content": null,
      "align_items": null,
      "align_self": null,
      "border": null,
      "bottom": null,
      "display": null,
      "flex": null,
      "flex_flow": null,
      "grid_area": null,
      "grid_auto_columns": null,
      "grid_auto_flow": null,
      "grid_auto_rows": null,
      "grid_column": null,
      "grid_gap": null,
      "grid_row": null,
      "grid_template_areas": null,
      "grid_template_columns": null,
      "grid_template_rows": null,
      "height": null,
      "justify_content": null,
      "justify_items": null,
      "left": null,
      "margin": null,
      "max_height": null,
      "max_width": null,
      "min_height": null,
      "min_width": null,
      "object_fit": null,
      "object_position": null,
      "order": null,
      "overflow": null,
      "overflow_x": null,
      "overflow_y": null,
      "padding": null,
      "right": null,
      "top": null,
      "visibility": null,
      "width": null
     }
    },
    "a9011763a91a41d8b1a665652972b4bf": {
     "model_module": "@jupyter-widgets/base",
     "model_name": "LayoutModel",
     "state": {
      "_model_module": "@jupyter-widgets/base",
      "_model_module_version": "1.2.0",
      "_model_name": "LayoutModel",
      "_view_count": null,
      "_view_module": "@jupyter-widgets/base",
      "_view_module_version": "1.2.0",
      "_view_name": "LayoutView",
      "align_content": null,
      "align_items": null,
      "align_self": null,
      "border": null,
      "bottom": null,
      "display": null,
      "flex": null,
      "flex_flow": null,
      "grid_area": null,
      "grid_auto_columns": null,
      "grid_auto_flow": null,
      "grid_auto_rows": null,
      "grid_column": null,
      "grid_gap": null,
      "grid_row": null,
      "grid_template_areas": null,
      "grid_template_columns": null,
      "grid_template_rows": null,
      "height": null,
      "justify_content": null,
      "justify_items": null,
      "left": null,
      "margin": null,
      "max_height": null,
      "max_width": null,
      "min_height": null,
      "min_width": null,
      "object_fit": null,
      "object_position": null,
      "order": null,
      "overflow": null,
      "overflow_x": null,
      "overflow_y": null,
      "padding": null,
      "right": null,
      "top": null,
      "visibility": null,
      "width": null
     }
    },
    "ac8a7709a94c4974a9ce986162d1264a": {
     "model_module": "@jupyter-widgets/base",
     "model_name": "LayoutModel",
     "state": {
      "_model_module": "@jupyter-widgets/base",
      "_model_module_version": "1.2.0",
      "_model_name": "LayoutModel",
      "_view_count": null,
      "_view_module": "@jupyter-widgets/base",
      "_view_module_version": "1.2.0",
      "_view_name": "LayoutView",
      "align_content": null,
      "align_items": null,
      "align_self": null,
      "border": null,
      "bottom": null,
      "display": null,
      "flex": null,
      "flex_flow": null,
      "grid_area": null,
      "grid_auto_columns": null,
      "grid_auto_flow": null,
      "grid_auto_rows": null,
      "grid_column": null,
      "grid_gap": null,
      "grid_row": null,
      "grid_template_areas": null,
      "grid_template_columns": null,
      "grid_template_rows": null,
      "height": null,
      "justify_content": null,
      "justify_items": null,
      "left": null,
      "margin": null,
      "max_height": null,
      "max_width": null,
      "min_height": null,
      "min_width": null,
      "object_fit": null,
      "object_position": null,
      "order": null,
      "overflow": null,
      "overflow_x": null,
      "overflow_y": null,
      "padding": null,
      "right": null,
      "top": null,
      "visibility": null,
      "width": "20px"
     }
    },
    "aecf078487aa4cdf81d43e4039c9d528": {
     "model_module": "@jupyter-widgets/controls",
     "model_name": "DescriptionStyleModel",
     "state": {
      "_model_module": "@jupyter-widgets/controls",
      "_model_module_version": "1.5.0",
      "_model_name": "DescriptionStyleModel",
      "_view_count": null,
      "_view_module": "@jupyter-widgets/base",
      "_view_module_version": "1.2.0",
      "_view_name": "StyleView",
      "description_width": ""
     }
    },
    "bfc1fa78a69e4f7faa3782133c1fe582": {
     "model_module": "@jupyter-widgets/controls",
     "model_name": "HTMLModel",
     "state": {
      "_dom_classes": [],
      "_model_module": "@jupyter-widgets/controls",
      "_model_module_version": "1.5.0",
      "_model_name": "HTMLModel",
      "_view_count": null,
      "_view_module": "@jupyter-widgets/controls",
      "_view_module_version": "1.5.0",
      "_view_name": "HTMLView",
      "description": "",
      "description_tooltip": null,
      "layout": "IPY_MODEL_8ebcecba40564c1ebe5297fce92afaf3",
      "placeholder": "​",
      "style": "IPY_MODEL_9d61ac7b38464f6982a98376e6bc598a",
      "value": "100%"
     }
    },
    "c042c0c4ce7e4d0a816e2e1fb3bafb37": {
     "model_module": "@jupyter-widgets/controls",
     "model_name": "ProgressStyleModel",
     "state": {
      "_model_module": "@jupyter-widgets/controls",
      "_model_module_version": "1.5.0",
      "_model_name": "ProgressStyleModel",
      "_view_count": null,
      "_view_module": "@jupyter-widgets/base",
      "_view_module_version": "1.2.0",
      "_view_name": "StyleView",
      "bar_color": null,
      "description_width": ""
     }
    },
    "c1abdcc62a884e96aae390d7aae744c6": {
     "model_module": "@jupyter-widgets/controls",
     "model_name": "DescriptionStyleModel",
     "state": {
      "_model_module": "@jupyter-widgets/controls",
      "_model_module_version": "1.5.0",
      "_model_name": "DescriptionStyleModel",
      "_view_count": null,
      "_view_module": "@jupyter-widgets/base",
      "_view_module_version": "1.2.0",
      "_view_name": "StyleView",
      "description_width": ""
     }
    },
    "d040833fb1b74beeb0d7246f13bc62eb": {
     "model_module": "@jupyter-widgets/controls",
     "model_name": "HTMLModel",
     "state": {
      "_dom_classes": [],
      "_model_module": "@jupyter-widgets/controls",
      "_model_module_version": "1.5.0",
      "_model_name": "HTMLModel",
      "_view_count": null,
      "_view_module": "@jupyter-widgets/controls",
      "_view_module_version": "1.5.0",
      "_view_name": "HTMLView",
      "description": "",
      "description_tooltip": null,
      "layout": "IPY_MODEL_efc1b0b53cee44b5b0813424742872ca",
      "placeholder": "​",
      "style": "IPY_MODEL_643f76d1e4464b44a50b0f15fc0c61a8",
      "value": " 0/0 [00:00&lt;?, ?it/s]"
     }
    },
    "d733348055ec4dde82ccfc86b19b82b9": {
     "model_module": "@jupyter-widgets/controls",
     "model_name": "DescriptionStyleModel",
     "state": {
      "_model_module": "@jupyter-widgets/controls",
      "_model_module_version": "1.5.0",
      "_model_name": "DescriptionStyleModel",
      "_view_count": null,
      "_view_module": "@jupyter-widgets/base",
      "_view_module_version": "1.2.0",
      "_view_name": "StyleView",
      "description_width": ""
     }
    },
    "da5c6c4fa3f84b8b81cce1c89f11bb50": {
     "model_module": "@jupyter-widgets/base",
     "model_name": "LayoutModel",
     "state": {
      "_model_module": "@jupyter-widgets/base",
      "_model_module_version": "1.2.0",
      "_model_name": "LayoutModel",
      "_view_count": null,
      "_view_module": "@jupyter-widgets/base",
      "_view_module_version": "1.2.0",
      "_view_name": "LayoutView",
      "align_content": null,
      "align_items": null,
      "align_self": null,
      "border": null,
      "bottom": null,
      "display": null,
      "flex": null,
      "flex_flow": null,
      "grid_area": null,
      "grid_auto_columns": null,
      "grid_auto_flow": null,
      "grid_auto_rows": null,
      "grid_column": null,
      "grid_gap": null,
      "grid_row": null,
      "grid_template_areas": null,
      "grid_template_columns": null,
      "grid_template_rows": null,
      "height": null,
      "justify_content": null,
      "justify_items": null,
      "left": null,
      "margin": null,
      "max_height": null,
      "max_width": null,
      "min_height": null,
      "min_width": null,
      "object_fit": null,
      "object_position": null,
      "order": null,
      "overflow": null,
      "overflow_x": null,
      "overflow_y": null,
      "padding": null,
      "right": null,
      "top": null,
      "visibility": null,
      "width": null
     }
    },
    "dedc69752f2a4ffeaf8b0279d1a13052": {
     "model_module": "@jupyter-widgets/base",
     "model_name": "LayoutModel",
     "state": {
      "_model_module": "@jupyter-widgets/base",
      "_model_module_version": "1.2.0",
      "_model_name": "LayoutModel",
      "_view_count": null,
      "_view_module": "@jupyter-widgets/base",
      "_view_module_version": "1.2.0",
      "_view_name": "LayoutView",
      "align_content": null,
      "align_items": null,
      "align_self": null,
      "border": null,
      "bottom": null,
      "display": null,
      "flex": null,
      "flex_flow": null,
      "grid_area": null,
      "grid_auto_columns": null,
      "grid_auto_flow": null,
      "grid_auto_rows": null,
      "grid_column": null,
      "grid_gap": null,
      "grid_row": null,
      "grid_template_areas": null,
      "grid_template_columns": null,
      "grid_template_rows": null,
      "height": null,
      "justify_content": null,
      "justify_items": null,
      "left": null,
      "margin": null,
      "max_height": null,
      "max_width": null,
      "min_height": null,
      "min_width": null,
      "object_fit": null,
      "object_position": null,
      "order": null,
      "overflow": null,
      "overflow_x": null,
      "overflow_y": null,
      "padding": null,
      "right": null,
      "top": null,
      "visibility": null,
      "width": null
     }
    },
    "e328bf04c8d74fbf9a963f928f77f753": {
     "model_module": "@jupyter-widgets/controls",
     "model_name": "ProgressStyleModel",
     "state": {
      "_model_module": "@jupyter-widgets/controls",
      "_model_module_version": "1.5.0",
      "_model_name": "ProgressStyleModel",
      "_view_count": null,
      "_view_module": "@jupyter-widgets/base",
      "_view_module_version": "1.2.0",
      "_view_name": "StyleView",
      "bar_color": null,
      "description_width": ""
     }
    },
    "efc1b0b53cee44b5b0813424742872ca": {
     "model_module": "@jupyter-widgets/base",
     "model_name": "LayoutModel",
     "state": {
      "_model_module": "@jupyter-widgets/base",
      "_model_module_version": "1.2.0",
      "_model_name": "LayoutModel",
      "_view_count": null,
      "_view_module": "@jupyter-widgets/base",
      "_view_module_version": "1.2.0",
      "_view_name": "LayoutView",
      "align_content": null,
      "align_items": null,
      "align_self": null,
      "border": null,
      "bottom": null,
      "display": null,
      "flex": null,
      "flex_flow": null,
      "grid_area": null,
      "grid_auto_columns": null,
      "grid_auto_flow": null,
      "grid_auto_rows": null,
      "grid_column": null,
      "grid_gap": null,
      "grid_row": null,
      "grid_template_areas": null,
      "grid_template_columns": null,
      "grid_template_rows": null,
      "height": null,
      "justify_content": null,
      "justify_items": null,
      "left": null,
      "margin": null,
      "max_height": null,
      "max_width": null,
      "min_height": null,
      "min_width": null,
      "object_fit": null,
      "object_position": null,
      "order": null,
      "overflow": null,
      "overflow_x": null,
      "overflow_y": null,
      "padding": null,
      "right": null,
      "top": null,
      "visibility": null,
      "width": null
     }
    },
    "f7a3e29afd9f4e7594c87adc1a357c45": {
     "model_module": "@jupyter-widgets/controls",
     "model_name": "FloatProgressModel",
     "state": {
      "_dom_classes": [],
      "_model_module": "@jupyter-widgets/controls",
      "_model_module_version": "1.5.0",
      "_model_name": "FloatProgressModel",
      "_view_count": null,
      "_view_module": "@jupyter-widgets/controls",
      "_view_module_version": "1.5.0",
      "_view_name": "ProgressView",
      "bar_style": "success",
      "description": "",
      "description_tooltip": null,
      "layout": "IPY_MODEL_2dd3ac9e92b14012a44e99e77d0983c2",
      "max": 1,
      "min": 0,
      "orientation": "horizontal",
      "style": "IPY_MODEL_c042c0c4ce7e4d0a816e2e1fb3bafb37",
      "value": 0
     }
    },
    "fa3a2c3c3b9e433a8fc196c424e00422": {
     "model_module": "@jupyter-widgets/controls",
     "model_name": "FloatProgressModel",
     "state": {
      "_dom_classes": [],
      "_model_module": "@jupyter-widgets/controls",
      "_model_module_version": "1.5.0",
      "_model_name": "FloatProgressModel",
      "_view_count": null,
      "_view_module": "@jupyter-widgets/controls",
      "_view_module_version": "1.5.0",
      "_view_name": "ProgressView",
      "bar_style": "success",
      "description": "",
      "description_tooltip": null,
      "layout": "IPY_MODEL_24dffa9d192240208872ea78413eff12",
      "max": 24,
      "min": 0,
      "orientation": "horizontal",
      "style": "IPY_MODEL_e328bf04c8d74fbf9a963f928f77f753",
      "value": 24
     }
    },
    "fcb723637e8a4368a8142f0e5d46a764": {
     "model_module": "@jupyter-widgets/controls",
     "model_name": "FloatProgressModel",
     "state": {
      "_dom_classes": [],
      "_model_module": "@jupyter-widgets/controls",
      "_model_module_version": "1.5.0",
      "_model_name": "FloatProgressModel",
      "_view_count": null,
      "_view_module": "@jupyter-widgets/controls",
      "_view_module_version": "1.5.0",
      "_view_name": "ProgressView",
      "bar_style": "success",
      "description": "",
      "description_tooltip": null,
      "layout": "IPY_MODEL_ac8a7709a94c4974a9ce986162d1264a",
      "max": 1,
      "min": 0,
      "orientation": "horizontal",
      "style": "IPY_MODEL_6a91078f85e14b1c9cb210f7e32c8fcf",
      "value": 0
     }
    }
   }
  }
 },
 "nbformat": 4,
 "nbformat_minor": 4
}
