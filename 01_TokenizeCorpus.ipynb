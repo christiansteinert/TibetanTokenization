{
 "cells": [
  {
   "cell_type": "code",
   "execution_count": null,
   "metadata": {
    "executionInfo": {
     "elapsed": 343,
     "status": "ok",
     "timestamp": 1623581169081,
     "user": {
      "displayName": "Christian Steinert",
      "photoUrl": "",
      "userId": "14480600681092148199"
     },
     "user_tz": -120
    },
    "id": "hWAp2boCU-E4"
   },
   "outputs": [],
   "source": []
  },
  {
   "cell_type": "markdown",
   "metadata": {
    "id": "I9l-Ro25SuV4"
   },
   "source": [
    "## Tokenize a corpus of Tibetan Texts and separate it into sentences\n",
    "This code will tokenize a collection of Tibetan texts. \n",
    "\n",
    "All text is tokenized with the botok tokenizer. In the output files, every sentence will be in a separate line and within each sentence, individual tokens will be separated be spaces. \n",
    "The tokenizer will leave frequently occurring words as a single token, so not every syllable boundary will lead to a token-split.\n",
    "\n",
    "Note: With a 6-core / 12-thread CPU the tokenization of a large corpus will take several hours. If run on Google Collab, the performance will be extremely bad because this is purely a CPU-based workload and CPU resources on Collab are very limited.\n",
    "\n",
    "This code is adapted from an example in the Esukhia bonltk repository https://github.com/Esukhia/bonltk/blob/master/nbs/prepare_dataset/esukhia_dergey_kangyur_and%20tengyur.ipynb. \n",
    "\n",
    "The main differences compared to the original code are:\n",
    "* Update from fastai 1 to fastai 2\n",
    "* The code was adjusted for running not only on Google Collab but also locally\n",
    "* Processing of files utilizes all available CPU cores, not just a single thread\n",
    "* The output folder keeps the same hierarchy as the input folder and existing output files are not re-processed to allow incremental processing\n",
    "* The original code removed various types of brackets and parentheses which are retained here as separate tokens\n",
    "\n",
    "All code below is licensed under Apache License 2.0 "
   ]
  },
  {
   "cell_type": "markdown",
   "metadata": {
    "id": "TFQFwH1nSuV-"
   },
   "source": [
    "## Install the botok Tibetan tokenizer library from esukhia if it is not present "
   ]
  },
  {
   "cell_type": "code",
   "execution_count": 1,
   "metadata": {
    "colab": {
     "base_uri": "https://localhost:8080/"
    },
    "executionInfo": {
     "elapsed": 6499,
     "status": "ok",
     "timestamp": 1623588482776,
     "user": {
      "displayName": "Christian Steinert",
      "photoUrl": "",
      "userId": "14480600681092148199"
     },
     "user_tz": -120
    },
    "id": "aTQZisVuSuWA",
    "outputId": "d2ffe2e5-2e6a-4d65-b902-fd29ff18ceea"
   },
   "outputs": [
    {
     "name": "stdout",
     "output_type": "stream",
     "text": [
      "Drive already mounted at /content/drive; to attempt to forcibly remount, call drive.mount(\"/content/drive\", force_remount=True).\n",
      "Requirement already satisfied: botok in /usr/local/lib/python3.7/dist-packages (0.8.6)\n",
      "Requirement already satisfied: requests in /usr/local/lib/python3.7/dist-packages (from botok) (2.23.0)\n",
      "Requirement already satisfied: pyyaml in /usr/local/lib/python3.7/dist-packages (from botok) (3.13)\n",
      "Requirement already satisfied: chardet<4,>=3.0.2 in /usr/local/lib/python3.7/dist-packages (from requests->botok) (3.0.4)\n",
      "Requirement already satisfied: certifi>=2017.4.17 in /usr/local/lib/python3.7/dist-packages (from requests->botok) (2020.12.5)\n",
      "Requirement already satisfied: idna<3,>=2.5 in /usr/local/lib/python3.7/dist-packages (from requests->botok) (2.10)\n",
      "Requirement already satisfied: urllib3!=1.25.0,!=1.25.1,<1.26,>=1.21.1 in /usr/local/lib/python3.7/dist-packages (from requests->botok) (1.24.3)\n",
      "Requirement already satisfied: tqdm>=4.59.0 in /usr/local/lib/python3.7/dist-packages (4.61.1)\n"
     ]
    }
   ],
   "source": [
    "if 'google.colab' in str(get_ipython()):\n",
    "  from google.colab import drive\n",
    "  drive.mount('/content/drive')\n",
    "  folder_prefix = '/content/drive/MyDrive/Colab Notebooks/'\n",
    "  google_collab = True\n",
    "else:\n",
    "  folder_prefix = ''\n",
    "  google_collab = False\n",
    "\n",
    "\n",
    "if google_collab:\n",
    "    !pip install botok\n",
    "    !pip install 'tqdm>=4.59.0' # make sure to use a sufficiently new version of tqdm that supports multithreading"
   ]
  },
  {
   "cell_type": "markdown",
   "metadata": {
    "id": "aB8xnPRbSuWE"
   },
   "source": [
    "## Import libraries"
   ]
  },
  {
   "cell_type": "code",
   "execution_count": 2,
   "metadata": {
    "executionInfo": {
     "elapsed": 8,
     "status": "ok",
     "timestamp": 1623581174587,
     "user": {
      "displayName": "Christian Steinert",
      "photoUrl": "",
      "userId": "14480600681092148199"
     },
     "user_tz": -120
    },
    "id": "mEC0g-nNSuWF"
   },
   "outputs": [],
   "source": [
    "# Libraries:\n",
    "\n",
    "# Tibetan tokenizer / sentence segmenter\n",
    "from botok import WordTokenizer, sentence_tokenizer\n",
    "\n",
    "# file access\n",
    "import os\n",
    "from glob import glob\n",
    "from pathlib import Path \n",
    "\n",
    "# progress bar and multiprocessing\n",
    "from tqdm.notebook import tqdm\n",
    "from tqdm.contrib.concurrent import process_map\n",
    "\n",
    "# helper stuff \n",
    "import itertools\n",
    "import traceback\n",
    "import sys\n",
    "from typing import List"
   ]
  },
  {
   "cell_type": "markdown",
   "metadata": {
    "id": "-rqq9qtNSuWH"
   },
   "source": [
    "## Path configuration "
   ]
  },
  {
   "cell_type": "code",
   "execution_count": 3,
   "metadata": {
    "executionInfo": {
     "elapsed": 8,
     "status": "ok",
     "timestamp": 1623581174588,
     "user": {
      "displayName": "Christian Steinert",
      "photoUrl": "",
      "userId": "14480600681092148199"
     },
     "user_tz": -120
    },
    "id": "RYgeOQ6xSuWI"
   },
   "outputs": [],
   "source": [
    "source_paths = 'Corpora/**/*.txt' \n",
    "output_path  = 'data/tokenized/'\n"
   ]
  },
  {
   "cell_type": "markdown",
   "metadata": {
    "id": "xnVxgerLSuWJ"
   },
   "source": [
    "## Sentence-split and tokenize the entire corpus with the botok library"
   ]
  },
  {
   "cell_type": "code",
   "execution_count": 4,
   "metadata": {
    "colab": {
     "base_uri": "https://localhost:8080/"
    },
    "executionInfo": {
     "elapsed": 1859,
     "status": "ok",
     "timestamp": 1623581176440,
     "user": {
      "displayName": "Christian Steinert",
      "photoUrl": "",
      "userId": "14480600681092148199"
     },
     "user_tz": -120
    },
    "id": "dVn79YXiSuWL",
    "outputId": "07ce808c-a060-447a-c183-f5b7b77bc422"
   },
   "outputs": [
    {
     "name": "stdout",
     "output_type": "stream",
     "text": [
      "Loading Trie... (2s.)\n"
     ]
    }
   ],
   "source": [
    "tokenizer = WordTokenizer()"
   ]
  },
  {
   "cell_type": "code",
   "execution_count": 8,
   "metadata": {
    "executionInfo": {
     "elapsed": 262,
     "status": "ok",
     "timestamp": 1623581491662,
     "user": {
      "displayName": "Christian Steinert",
      "photoUrl": "",
      "userId": "14480600681092148199"
     },
     "user_tz": -120
    },
    "id": "0QMhDFvXSuWN"
   },
   "outputs": [],
   "source": [
    "# adjust some special characters\n",
    "def post_process(text:str, \n",
    "                 steps=[(' ', '@'), ('_', ' '), ('@', '_'), ('*', ''), ('(', ' ( '), (')', ' ) '), ('[', ' [ '), (']', ' ] '), ('{', ' { '), ('}', ' } '), ('<', ' < '), ('>', ' > ')])->str:\n",
    "    for f, t in steps:\n",
    "        text = text.replace(f, t)\n",
    "    return text \n",
    "\n",
    "# split a string in sentences and tokenize each sentence\n",
    "def get_sentences(text:str):\n",
    "    text = text.replace('\\n', ' ')\n",
    "    tokens = tokenizer.tokenize(text)\n",
    "    sentences_tok = sentence_tokenizer(tokens)\n",
    "    sentences = [' '.join([post_process(tok.text) for tok in sent[1]]).strip() for sent in sentences_tok]\n",
    "    return sentences\n",
    "\n",
    "\n",
    "# tokenize a single file, split it into one sentence per line and write it into the output folder\n",
    "# note: input_file must be a relative path starting at the current location\n",
    "def process_file(path_prefix:str, input_file:str, out_path:str)->List[str]:    \n",
    "    path = Path(  path_prefix ).joinpath(input_file)\n",
    "    out_path = Path( path_prefix ).joinpath(out_path).joinpath(input_file)\n",
    "    print(str(path) + '->' + str(out_path))\n",
    "    #print(str(out_path))\n",
    "    os.makedirs(out_path.parent, exist_ok=True)\n",
    "        \n",
    "    if(out_path.is_file()):\n",
    "        # -> tokenized output file already exists. Read and return it\n",
    "        existing_file=out_path.read_text()\n",
    "        return existing_file.split('\\n')\n",
    "    else:\n",
    "        # -> output does not exist yet. Tokenize the input and store the result\n",
    "\n",
    "        # read input file\n",
    "        text = path.read_text()        \n",
    "\n",
    "    \n",
    "        # segment text into sentences and tokens\n",
    "        sentences = get_sentences(text)\n",
    "\n",
    "        # post-processing\n",
    "        #result = post_process('\\n'.join(sentences))\n",
    "\n",
    "        # save the sentences\n",
    "        out_path.write_text('\\n'.join(sentences))\n",
    "        print(out_path)\n",
    "\n",
    "        return sentences\n",
    "\n",
    "    \n",
    "# call wrapper: tokenize a single file but take all arguments as a single n-tuple to allow easy multithreaded calling\n",
    "def process_file_(params):\n",
    "    try: \n",
    "        path_prefix, input_file, out_path = params\n",
    "        return process_file(path_prefix, input_file, out_path)\n",
    "    except Exception as e:\n",
    "        # catch exceptions so that the program does not die if there is a problematic input file and print the error information\n",
    "        print(f'Error when processing file: {input_file}')\n",
    "        print(e) \n",
    "        traceback.print_exception(*sys.exc_info())\n",
    "\n",
    "    \n",
    "# Parse into sentences and write one sentence per line into the output file.\n",
    "# Furthermore, each sentence is tokenized so that tokens are split into strings\n",
    "def convert_to_sentence_per_line(single_threaded:bool, path_prefix:str, input_file_pattern:str, out_path:str):\n",
    "    n_sents = 0\n",
    "\n",
    "    out_path = Path( path_prefix ).joinpath(out_path)\n",
    "    #os.makedirs(out_path, exist_ok=True)\n",
    "    input_pattern_full = str( Path(path_prefix).joinpath(input_file_pattern) )\n",
    "\n",
    "    file_list = glob(input_pattern_full, recursive=True)\n",
    "\n",
    "    file_list = [file_name.replace(path_prefix,'') for file_name in file_list] \n",
    "    call_aguments = [ ( path_prefix, file_name, out_path ) for file_name in file_list ]     \n",
    "    if single_threaded:\n",
    "      # do single-threaded processing\n",
    "      for params in call_aguments: #tqdm(call_aguments):\n",
    "        process_file_(params)\n",
    "    else:\n",
    "      # do parallel processing to speed things up.\n",
    "      # each file is processed by a separate thread\n",
    "      results = process_map(process_file_, call_aguments, chunksize=1) \n",
    "   \n",
    "    # merge lines from all result files back together again after they were processed in individual threads:\n",
    "    results = list( itertools.chain.from_iterable(results) )\n",
    "    \n",
    "    return results\n"
   ]
  },
  {
   "cell_type": "code",
   "execution_count": 9,
   "metadata": {
    "colab": {
     "base_uri": "https://localhost:8080/",
     "height": 1000,
     "referenced_widgets": [
      "925e9953b64f49b1b9d618fbcf8ad2a0",
      "b272ae1b6f124350b7ca3d913d90a715",
      "4583e33c56bf4fc88304c37898fdba1f",
      "2d3b96789c39414dafb1cd6fd094af75",
      "18d11dca1ba944fb9f875c4fe810d814",
      "f79cca4ccf1446a7a963c3a948b54380",
      "245408505ce24b0395aa83fc3c46f2e3",
      "6911acf3a00a4f2a93a947f360bbc0e4",
      "a2bd395d70df4946b93fe11cde0e64d8",
      "9a62a68abe324ebfb56ce3a967d223f6",
      "c0b08863dca0446fb5aa2cde36d7f967"
     ]
    },
    "executionInfo": {
     "elapsed": 2957453,
     "status": "error",
     "timestamp": 1623584449470,
     "user": {
      "displayName": "Christian Steinert",
      "photoUrl": "",
      "userId": "14480600681092148199"
     },
     "user_tz": -120
    },
    "id": "SZEEOC4cSuWR",
    "outputId": "3ed090be-ad27-4a6b-a80e-186cd2e8e80e"
   },
   "outputs": [
    {
     "name": "stdout",
     "output_type": "stream",
     "text": [
      "/content/drive/MyDrive/Colab Notebooks/Corpora/BDRC/eKangyur/UT4CZ5369/UT4CZ5369-I1KG9199/UT4CZ5369-I1KG9199-0000.txt->/content/drive/MyDrive/Colab Notebooks/data/tokenized/Corpora/BDRC/eKangyur/UT4CZ5369/UT4CZ5369-I1KG9199/UT4CZ5369-I1KG9199-0000.txt\n",
      "/content/drive/MyDrive/Colab Notebooks/Corpora/BDRC/eKangyur/UT4CZ5369/UT4CZ5369-I1KG9202/UT4CZ5369-I1KG9202-0000.txt->/content/drive/MyDrive/Colab Notebooks/data/tokenized/Corpora/BDRC/eKangyur/UT4CZ5369/UT4CZ5369-I1KG9202/UT4CZ5369-I1KG9202-0000.txt\n",
      "/content/drive/MyDrive/Colab Notebooks/Corpora/BDRC/eKangyur/UT4CZ5369/UT4CZ5369-I1KG9219/UT4CZ5369-I1KG9219-0000.txt->/content/drive/MyDrive/Colab Notebooks/data/tokenized/Corpora/BDRC/eKangyur/UT4CZ5369/UT4CZ5369-I1KG9219/UT4CZ5369-I1KG9219-0000.txt\n",
      "/content/drive/MyDrive/Colab Notebooks/Corpora/BDRC/eKangyur/UT4CZ5369/UT4CZ5369-I1KG9174/UT4CZ5369-I1KG9174-0000.txt->/content/drive/MyDrive/Colab Notebooks/data/tokenized/Corpora/BDRC/eKangyur/UT4CZ5369/UT4CZ5369-I1KG9174/UT4CZ5369-I1KG9174-0000.txt\n",
      "/content/drive/MyDrive/Colab Notebooks/Corpora/BDRC/eKangyur/UT4CZ5369/UT4CZ5369-I1KG9181/UT4CZ5369-I1KG9181-0000.txt->/content/drive/MyDrive/Colab Notebooks/data/tokenized/Corpora/BDRC/eKangyur/UT4CZ5369/UT4CZ5369-I1KG9181/UT4CZ5369-I1KG9181-0000.txt\n",
      "/content/drive/MyDrive/Colab Notebooks/Corpora/BDRC/eKangyur/UT4CZ5369/UT4CZ5369-I1KG9154/UT4CZ5369-I1KG9154-0000.txt->/content/drive/MyDrive/Colab Notebooks/data/tokenized/Corpora/BDRC/eKangyur/UT4CZ5369/UT4CZ5369-I1KG9154/UT4CZ5369-I1KG9154-0000.txt\n"
     ]
    },
    {
     "name": "stderr",
     "output_type": "stream",
     "text": [
      "/usr/local/lib/python3.7/dist-packages/botok/textunits/bostring.py:83: UserWarning: Beware of unexpected results: input string contains the non-expanded char \"ཱུ\", found in \"\".\n",
      "  f'Beware of unexpected results: input string contains the non-expanded char \"{self.string[idx]}\", '\n",
      "/usr/local/lib/python3.7/dist-packages/botok/textunits/bostring.py:83: UserWarning: Beware of unexpected results: input string contains the non-expanded char \"དྷ\", found in \"\".\n",
      "  f'Beware of unexpected results: input string contains the non-expanded char \"{self.string[idx]}\", '\n"
     ]
    },
    {
     "name": "stdout",
     "output_type": "stream",
     "text": [
      "/content/drive/MyDrive/Colab Notebooks/Corpora/BDRC/eKangyur/UT4CZ5369/UT4CZ5369-I1KG9195/UT4CZ5369-I1KG9195-0000.txt->/content/drive/MyDrive/Colab Notebooks/data/tokenized/Corpora/BDRC/eKangyur/UT4CZ5369/UT4CZ5369-I1KG9195/UT4CZ5369-I1KG9195-0000.txt\n"
     ]
    },
    {
     "data": {
      "application/vnd.jupyter.widget-view+json": {
       "model_id": "925e9953b64f49b1b9d618fbcf8ad2a0",
       "version_major": 2,
       "version_minor": 0
      },
      "text/plain": [
       "  0%|          | 0/10742 [00:00<?, ?it/s]"
      ]
     },
     "metadata": {
      "tags": []
     },
     "output_type": "display_data"
    },
    {
     "name": "stdout",
     "output_type": "stream",
     "text": [
      "/content/drive/MyDrive/Colab Notebooks/Corpora/BDRC/eKangyur/UT4CZ5369/UT4CZ5369-I1KG9165/UT4CZ5369-I1KG9165-0000.txt->/content/drive/MyDrive/Colab Notebooks/data/tokenized/Corpora/BDRC/eKangyur/UT4CZ5369/UT4CZ5369-I1KG9165/UT4CZ5369-I1KG9165-0000.txt\n"
     ]
    },
    {
     "name": "stderr",
     "output_type": "stream",
     "text": [
      "/usr/local/lib/python3.7/dist-packages/botok/textunits/bostring.py:83: UserWarning: Beware of unexpected results: input string contains the non-expanded char \"ཱུ\", found in \"\".\n",
      "  f'Beware of unexpected results: input string contains the non-expanded char \"{self.string[idx]}\", '\n"
     ]
    },
    {
     "name": "stdout",
     "output_type": "stream",
     "text": [
      "/content/drive/MyDrive/Colab Notebooks/Corpora/BDRC/eKangyur/UT4CZ5369/UT4CZ5369-I1KG9147/UT4CZ5369-I1KG9147-0000.txt->/content/drive/MyDrive/Colab Notebooks/data/tokenized/Corpora/BDRC/eKangyur/UT4CZ5369/UT4CZ5369-I1KG9147/UT4CZ5369-I1KG9147-0000.txt\n"
     ]
    },
    {
     "name": "stderr",
     "output_type": "stream",
     "text": [
      "/usr/local/lib/python3.7/dist-packages/botok/textunits/bostring.py:83: UserWarning: Beware of unexpected results: input string contains the non-expanded char \"དྷ\", found in \"\".\n",
      "  f'Beware of unexpected results: input string contains the non-expanded char \"{self.string[idx]}\", '\n",
      "/usr/local/lib/python3.7/dist-packages/botok/textunits/bostring.py:83: UserWarning: Beware of unexpected results: input string contains the non-expanded char \"བྷ\", found in \"\".\n",
      "  f'Beware of unexpected results: input string contains the non-expanded char \"{self.string[idx]}\", '\n",
      "/usr/local/lib/python3.7/dist-packages/botok/textunits/bostring.py:83: UserWarning: Beware of unexpected results: input string contains the non-expanded char \"ཱུ\", found in \"\".\n",
      "  f'Beware of unexpected results: input string contains the non-expanded char \"{self.string[idx]}\", '\n",
      "/usr/local/lib/python3.7/dist-packages/botok/textunits/bostring.py:83: UserWarning: Beware of unexpected results: input string contains the non-expanded char \"བྷ\", found in \"\".\n",
      "  f'Beware of unexpected results: input string contains the non-expanded char \"{self.string[idx]}\", '\n",
      "/usr/local/lib/python3.7/dist-packages/botok/textunits/bostring.py:83: UserWarning: Beware of unexpected results: input string contains the non-expanded char \"དྷ\", found in \"\".\n",
      "  f'Beware of unexpected results: input string contains the non-expanded char \"{self.string[idx]}\", '\n",
      "/usr/local/lib/python3.7/dist-packages/botok/textunits/bostring.py:83: UserWarning: Beware of unexpected results: input string contains the non-expanded char \"དྷ\", found in \"\".\n",
      "  f'Beware of unexpected results: input string contains the non-expanded char \"{self.string[idx]}\", '\n",
      "/usr/local/lib/python3.7/dist-packages/botok/textunits/bostring.py:83: UserWarning: Beware of unexpected results: input string contains the non-expanded char \"ཱུ\", found in \"\".\n",
      "  f'Beware of unexpected results: input string contains the non-expanded char \"{self.string[idx]}\", '\n",
      "/usr/local/lib/python3.7/dist-packages/botok/textunits/bostring.py:83: UserWarning: Beware of unexpected results: input string contains the non-expanded char \"བྷ\", found in \"\".\n",
      "  f'Beware of unexpected results: input string contains the non-expanded char \"{self.string[idx]}\", '\n",
      "/usr/local/lib/python3.7/dist-packages/botok/textunits/bostring.py:83: UserWarning: Beware of unexpected results: input string contains the non-expanded char \"བྷ\", found in \"\".\n",
      "  f'Beware of unexpected results: input string contains the non-expanded char \"{self.string[idx]}\", '\n",
      "/usr/local/lib/python3.7/dist-packages/botok/textunits/bostring.py:83: UserWarning: Beware of unexpected results: input string contains the non-expanded char \"ཀྵ\", found in \"\".\n",
      "  f'Beware of unexpected results: input string contains the non-expanded char \"{self.string[idx]}\", '\n",
      "/usr/local/lib/python3.7/dist-packages/botok/textunits/bostring.py:83: UserWarning: Beware of unexpected results: input string contains the non-expanded char \"གྷ\", found in \"\".\n",
      "  f'Beware of unexpected results: input string contains the non-expanded char \"{self.string[idx]}\", '\n",
      "/usr/local/lib/python3.7/dist-packages/botok/textunits/bostring.py:83: UserWarning: Beware of unexpected results: input string contains the non-expanded char \"ཱུ\", found in \"\".\n",
      "  f'Beware of unexpected results: input string contains the non-expanded char \"{self.string[idx]}\", '\n",
      "/usr/local/lib/python3.7/dist-packages/botok/textunits/bostring.py:83: UserWarning: Beware of unexpected results: input string contains the non-expanded char \"ཀྵ\", found in \"\".\n",
      "  f'Beware of unexpected results: input string contains the non-expanded char \"{self.string[idx]}\", '\n",
      "/usr/local/lib/python3.7/dist-packages/botok/textunits/bostring.py:83: UserWarning: Beware of unexpected results: input string contains the non-expanded char \"གྷ\", found in \"\".\n",
      "  f'Beware of unexpected results: input string contains the non-expanded char \"{self.string[idx]}\", '\n",
      "/usr/local/lib/python3.7/dist-packages/botok/textunits/bostring.py:83: UserWarning: Beware of unexpected results: input string contains the non-expanded char \"ྡྷ\", found in \"\".\n",
      "  f'Beware of unexpected results: input string contains the non-expanded char \"{self.string[idx]}\", '\n",
      "/usr/local/lib/python3.7/dist-packages/botok/textunits/bostring.py:83: UserWarning: Beware of unexpected results: input string contains the non-expanded char \"ཌྷ\", found in \"\".\n",
      "  f'Beware of unexpected results: input string contains the non-expanded char \"{self.string[idx]}\", '\n",
      "/usr/local/lib/python3.7/dist-packages/botok/textunits/bostring.py:83: UserWarning: Beware of unexpected results: input string contains the non-expanded char \"གྷ\", found in \"\".\n",
      "  f'Beware of unexpected results: input string contains the non-expanded char \"{self.string[idx]}\", '\n",
      "/usr/local/lib/python3.7/dist-packages/botok/textunits/bostring.py:83: UserWarning: Beware of unexpected results: input string contains the non-expanded char \"དྷ\", found in \"\".\n",
      "  f'Beware of unexpected results: input string contains the non-expanded char \"{self.string[idx]}\", '\n",
      "/usr/local/lib/python3.7/dist-packages/botok/textunits/bostring.py:83: UserWarning: Beware of unexpected results: input string contains the non-expanded char \"བྷ\", found in \"\".\n",
      "  f'Beware of unexpected results: input string contains the non-expanded char \"{self.string[idx]}\", '\n"
     ]
    },
    {
     "name": "stdout",
     "output_type": "stream",
     "text": [
      "/content/drive/MyDrive/Colab Notebooks/data/tokenized/Corpora/BDRC/eKangyur/UT4CZ5369/UT4CZ5369-I1KG9165/UT4CZ5369-I1KG9165-0000.txt\n",
      "/content/drive/MyDrive/Colab Notebooks/Corpora/BDRC/eKangyur/UT4CZ5369/UT4CZ5369-I1KG9176/UT4CZ5369-I1KG9176-0000.txt->/content/drive/MyDrive/Colab Notebooks/data/tokenized/Corpora/BDRC/eKangyur/UT4CZ5369/UT4CZ5369-I1KG9176/UT4CZ5369-I1KG9176-0000.txt\n",
      "/content/drive/MyDrive/Colab Notebooks/data/tokenized/Corpora/BDRC/eKangyur/UT4CZ5369/UT4CZ5369-I1KG9174/UT4CZ5369-I1KG9174-0000.txt\n",
      "/content/drive/MyDrive/Colab Notebooks/Corpora/BDRC/eKangyur/UT4CZ5369/UT4CZ5369-I1KG9204/UT4CZ5369-I1KG9204-0000.txt->/content/drive/MyDrive/Colab Notebooks/data/tokenized/Corpora/BDRC/eKangyur/UT4CZ5369/UT4CZ5369-I1KG9204/UT4CZ5369-I1KG9204-0000.txt\n"
     ]
    },
    {
     "name": "stderr",
     "output_type": "stream",
     "text": [
      "/usr/local/lib/python3.7/dist-packages/botok/textunits/bostring.py:83: UserWarning: Beware of unexpected results: input string contains the non-expanded char \"ྲྀ\", found in \"\".\n",
      "  f'Beware of unexpected results: input string contains the non-expanded char \"{self.string[idx]}\", '\n",
      "/usr/local/lib/python3.7/dist-packages/botok/textunits/bostring.py:83: UserWarning: Beware of unexpected results: input string contains the non-expanded char \"ཱྀ\", found in \"\".\n",
      "  f'Beware of unexpected results: input string contains the non-expanded char \"{self.string[idx]}\", '\n",
      "/usr/local/lib/python3.7/dist-packages/botok/textunits/bostring.py:83: UserWarning: Beware of unexpected results: input string contains the non-expanded char \"ྡྷ\", found in \"\".\n",
      "  f'Beware of unexpected results: input string contains the non-expanded char \"{self.string[idx]}\", '\n",
      "/usr/local/lib/python3.7/dist-packages/botok/textunits/bostring.py:83: UserWarning: Beware of unexpected results: input string contains the non-expanded char \"ཀྵ\", found in \"\".\n",
      "  f'Beware of unexpected results: input string contains the non-expanded char \"{self.string[idx]}\", '\n",
      "/usr/local/lib/python3.7/dist-packages/botok/textunits/bostring.py:83: UserWarning: Beware of unexpected results: input string contains the non-expanded char \"ྦྷ\", found in \"\".\n",
      "  f'Beware of unexpected results: input string contains the non-expanded char \"{self.string[idx]}\", '\n",
      "/usr/local/lib/python3.7/dist-packages/botok/textunits/bostring.py:83: UserWarning: Beware of unexpected results: input string contains the non-expanded char \"ༀ\", found in \"\".\n",
      "  f'Beware of unexpected results: input string contains the non-expanded char \"{self.string[idx]}\", '\n",
      "/usr/local/lib/python3.7/dist-packages/botok/textunits/bostring.py:83: UserWarning: Beware of unexpected results: input string contains the non-expanded char \"ཌྷ\", found in \"\".\n",
      "  f'Beware of unexpected results: input string contains the non-expanded char \"{self.string[idx]}\", '\n",
      "/usr/local/lib/python3.7/dist-packages/botok/textunits/bostring.py:83: UserWarning: Beware of unexpected results: input string contains the non-expanded char \"ཛྷ\", found in \"\".\n",
      "  f'Beware of unexpected results: input string contains the non-expanded char \"{self.string[idx]}\", '\n",
      "/usr/local/lib/python3.7/dist-packages/botok/textunits/bostring.py:83: UserWarning: Beware of unexpected results: input string contains the non-expanded char \"ྜྷ\", found in \"\".\n",
      "  f'Beware of unexpected results: input string contains the non-expanded char \"{self.string[idx]}\", '\n"
     ]
    },
    {
     "name": "stdout",
     "output_type": "stream",
     "text": [
      "/content/drive/MyDrive/Colab Notebooks/data/tokenized/Corpora/BDRC/eKangyur/UT4CZ5369/UT4CZ5369-I1KG9202/UT4CZ5369-I1KG9202-0000.txt\n",
      "/content/drive/MyDrive/Colab Notebooks/Corpora/BDRC/eKangyur/UT4CZ5369/UT4CZ5369-I1KG9205/UT4CZ5369-I1KG9205-0000.txt->/content/drive/MyDrive/Colab Notebooks/data/tokenized/Corpora/BDRC/eKangyur/UT4CZ5369/UT4CZ5369-I1KG9205/UT4CZ5369-I1KG9205-0000.txt\n"
     ]
    },
    {
     "name": "stderr",
     "output_type": "stream",
     "text": [
      "/usr/local/lib/python3.7/dist-packages/botok/textunits/bostring.py:83: UserWarning: Beware of unexpected results: input string contains the non-expanded char \"ཱྀ\", found in \"\".\n",
      "  f'Beware of unexpected results: input string contains the non-expanded char \"{self.string[idx]}\", '\n"
     ]
    },
    {
     "name": "stdout",
     "output_type": "stream",
     "text": [
      "/content/drive/MyDrive/Colab Notebooks/data/tokenized/Corpora/BDRC/eKangyur/UT4CZ5369/UT4CZ5369-I1KG9195/UT4CZ5369-I1KG9195-0000.txt\n",
      "/content/drive/MyDrive/Colab Notebooks/Corpora/BDRC/eKangyur/UT4CZ5369/UT4CZ5369-I1KG9160/UT4CZ5369-I1KG9160-0000.txt->/content/drive/MyDrive/Colab Notebooks/data/tokenized/Corpora/BDRC/eKangyur/UT4CZ5369/UT4CZ5369-I1KG9160/UT4CZ5369-I1KG9160-0000.txt\n",
      "/content/drive/MyDrive/Colab Notebooks/data/tokenized/Corpora/BDRC/eKangyur/UT4CZ5369/UT4CZ5369-I1KG9154/UT4CZ5369-I1KG9154-0000.txt\n",
      "/content/drive/MyDrive/Colab Notebooks/Corpora/BDRC/eKangyur/UT4CZ5369/UT4CZ5369-I1KG9159/UT4CZ5369-I1KG9159-0000.txt->/content/drive/MyDrive/Colab Notebooks/data/tokenized/Corpora/BDRC/eKangyur/UT4CZ5369/UT4CZ5369-I1KG9159/UT4CZ5369-I1KG9159-0000.txt\n"
     ]
    },
    {
     "name": "stderr",
     "output_type": "stream",
     "text": [
      "/usr/local/lib/python3.7/dist-packages/botok/textunits/bostring.py:83: UserWarning: Beware of unexpected results: input string contains the non-expanded char \"གྷ\", found in \"\".\n",
      "  f'Beware of unexpected results: input string contains the non-expanded char \"{self.string[idx]}\", '\n"
     ]
    },
    {
     "name": "stdout",
     "output_type": "stream",
     "text": [
      "/content/drive/MyDrive/Colab Notebooks/data/tokenized/Corpora/BDRC/eKangyur/UT4CZ5369/UT4CZ5369-I1KG9147/UT4CZ5369-I1KG9147-0000.txt\n",
      "/content/drive/MyDrive/Colab Notebooks/Corpora/BDRC/eKangyur/UT4CZ5369/UT4CZ5369-I1KG9184/UT4CZ5369-I1KG9184-0000.txt->/content/drive/MyDrive/Colab Notebooks/data/tokenized/Corpora/BDRC/eKangyur/UT4CZ5369/UT4CZ5369-I1KG9184/UT4CZ5369-I1KG9184-0000.txt\n"
     ]
    },
    {
     "name": "stderr",
     "output_type": "stream",
     "text": [
      "/usr/local/lib/python3.7/dist-packages/botok/textunits/bostring.py:83: UserWarning: Beware of unexpected results: input string contains the non-expanded char \"ཱུ\", found in \"\".\n",
      "  f'Beware of unexpected results: input string contains the non-expanded char \"{self.string[idx]}\", '\n",
      "/usr/local/lib/python3.7/dist-packages/botok/textunits/bostring.py:83: UserWarning: Beware of unexpected results: input string contains the non-expanded char \"དྷ\", found in \"\".\n",
      "  f'Beware of unexpected results: input string contains the non-expanded char \"{self.string[idx]}\", '\n",
      "/usr/local/lib/python3.7/dist-packages/botok/textunits/bostring.py:83: UserWarning: Beware of unexpected results: input string contains the non-expanded char \"ཀྵ\", found in \"\".\n",
      "  f'Beware of unexpected results: input string contains the non-expanded char \"{self.string[idx]}\", '\n",
      "/usr/local/lib/python3.7/dist-packages/botok/textunits/bostring.py:83: UserWarning: Beware of unexpected results: input string contains the non-expanded char \"ྒྷ\", found in \"\".\n",
      "  f'Beware of unexpected results: input string contains the non-expanded char \"{self.string[idx]}\", '\n",
      "/usr/local/lib/python3.7/dist-packages/botok/textunits/bostring.py:83: UserWarning: Beware of unexpected results: input string contains the non-expanded char \"ྡྷ\", found in \"\".\n",
      "  f'Beware of unexpected results: input string contains the non-expanded char \"{self.string[idx]}\", '\n",
      "/usr/local/lib/python3.7/dist-packages/botok/textunits/bostring.py:83: UserWarning: Beware of unexpected results: input string contains the non-expanded char \"བྷ\", found in \"\".\n",
      "  f'Beware of unexpected results: input string contains the non-expanded char \"{self.string[idx]}\", '\n",
      "/usr/local/lib/python3.7/dist-packages/botok/textunits/bostring.py:83: UserWarning: Beware of unexpected results: input string contains the non-expanded char \"གྷ\", found in \"\".\n",
      "  f'Beware of unexpected results: input string contains the non-expanded char \"{self.string[idx]}\", '\n"
     ]
    },
    {
     "name": "stdout",
     "output_type": "stream",
     "text": [
      "/content/drive/MyDrive/Colab Notebooks/data/tokenized/Corpora/BDRC/eKangyur/UT4CZ5369/UT4CZ5369-I1KG9176/UT4CZ5369-I1KG9176-0000.txt\n",
      "/content/drive/MyDrive/Colab Notebooks/Corpora/BDRC/eKangyur/UT4CZ5369/UT4CZ5369-I1KG9158/UT4CZ5369-I1KG9158-0000.txt->/content/drive/MyDrive/Colab Notebooks/data/tokenized/Corpora/BDRC/eKangyur/UT4CZ5369/UT4CZ5369-I1KG9158/UT4CZ5369-I1KG9158-0000.txt\n",
      "/content/drive/MyDrive/Colab Notebooks/data/tokenized/Corpora/BDRC/eKangyur/UT4CZ5369/UT4CZ5369-I1KG9205/UT4CZ5369-I1KG9205-0000.txt\n",
      "/content/drive/MyDrive/Colab Notebooks/Corpora/BDRC/eKangyur/UT4CZ5369/UT4CZ5369-I1KG9140/UT4CZ5369-I1KG9140-0000.txt->/content/drive/MyDrive/Colab Notebooks/data/tokenized/Corpora/BDRC/eKangyur/UT4CZ5369/UT4CZ5369-I1KG9140/UT4CZ5369-I1KG9140-0000.txt\n",
      "/content/drive/MyDrive/Colab Notebooks/data/tokenized/Corpora/BDRC/eKangyur/UT4CZ5369/UT4CZ5369-I1KG9204/UT4CZ5369-I1KG9204-0000.txt\n",
      "/content/drive/MyDrive/Colab Notebooks/Corpora/BDRC/eKangyur/UT4CZ5369/UT4CZ5369-I1KG9186/UT4CZ5369-I1KG9186-0000.txt->/content/drive/MyDrive/Colab Notebooks/data/tokenized/Corpora/BDRC/eKangyur/UT4CZ5369/UT4CZ5369-I1KG9186/UT4CZ5369-I1KG9186-0000.txt\n",
      "/content/drive/MyDrive/Colab Notebooks/data/tokenized/Corpora/BDRC/eKangyur/UT4CZ5369/UT4CZ5369-I1KG9160/UT4CZ5369-I1KG9160-0000.txt\n",
      "/content/drive/MyDrive/Colab Notebooks/Corpora/BDRC/eKangyur/UT4CZ5369/UT4CZ5369-I1KG9135/UT4CZ5369-I1KG9135-0000.txt->/content/drive/MyDrive/Colab Notebooks/data/tokenized/Corpora/BDRC/eKangyur/UT4CZ5369/UT4CZ5369-I1KG9135/UT4CZ5369-I1KG9135-0000.txt\n",
      "/content/drive/MyDrive/Colab Notebooks/data/tokenized/Corpora/BDRC/eKangyur/UT4CZ5369/UT4CZ5369-I1KG9159/UT4CZ5369-I1KG9159-0000.txt\n",
      "/content/drive/MyDrive/Colab Notebooks/Corpora/BDRC/eKangyur/UT4CZ5369/UT4CZ5369-I1KG9169/UT4CZ5369-I1KG9169-0000.txt->/content/drive/MyDrive/Colab Notebooks/data/tokenized/Corpora/BDRC/eKangyur/UT4CZ5369/UT4CZ5369-I1KG9169/UT4CZ5369-I1KG9169-0000.txt\n",
      "/content/drive/MyDrive/Colab Notebooks/data/tokenized/Corpora/BDRC/eKangyur/UT4CZ5369/UT4CZ5369-I1KG9184/UT4CZ5369-I1KG9184-0000.txt\n",
      "/content/drive/MyDrive/Colab Notebooks/Corpora/BDRC/eKangyur/UT4CZ5369/UT4CZ5369-I1KG9191/UT4CZ5369-I1KG9191-0000.txt->/content/drive/MyDrive/Colab Notebooks/data/tokenized/Corpora/BDRC/eKangyur/UT4CZ5369/UT4CZ5369-I1KG9191/UT4CZ5369-I1KG9191-0000.txt\n"
     ]
    },
    {
     "name": "stderr",
     "output_type": "stream",
     "text": [
      "/usr/local/lib/python3.7/dist-packages/botok/textunits/bostring.py:83: UserWarning: Beware of unexpected results: input string contains the non-expanded char \"ྦྷ\", found in \"\".\n",
      "  f'Beware of unexpected results: input string contains the non-expanded char \"{self.string[idx]}\", '\n"
     ]
    },
    {
     "name": "stdout",
     "output_type": "stream",
     "text": [
      "/content/drive/MyDrive/Colab Notebooks/data/tokenized/Corpora/BDRC/eKangyur/UT4CZ5369/UT4CZ5369-I1KG9158/UT4CZ5369-I1KG9158-0000.txt\n",
      "/content/drive/MyDrive/Colab Notebooks/Corpora/BDRC/eKangyur/UT4CZ5369/UT4CZ5369-I1KG9223/UT4CZ5369-I1KG9223-0000.txt->/content/drive/MyDrive/Colab Notebooks/data/tokenized/Corpora/BDRC/eKangyur/UT4CZ5369/UT4CZ5369-I1KG9223/UT4CZ5369-I1KG9223-0000.txt\n",
      "/content/drive/MyDrive/Colab Notebooks/data/tokenized/Corpora/BDRC/eKangyur/UT4CZ5369/UT4CZ5369-I1KG9186/UT4CZ5369-I1KG9186-0000.txt\n",
      "/content/drive/MyDrive/Colab Notebooks/Corpora/BDRC/eKangyur/UT4CZ5369/UT4CZ5369-I1KG9132/UT4CZ5369-I1KG9132-0000.txt->/content/drive/MyDrive/Colab Notebooks/data/tokenized/Corpora/BDRC/eKangyur/UT4CZ5369/UT4CZ5369-I1KG9132/UT4CZ5369-I1KG9132-0000.txt\n",
      "/content/drive/MyDrive/Colab Notebooks/data/tokenized/Corpora/BDRC/eKangyur/UT4CZ5369/UT4CZ5369-I1KG9169/UT4CZ5369-I1KG9169-0000.txt\n",
      "/content/drive/MyDrive/Colab Notebooks/Corpora/BDRC/eKangyur/UT4CZ5369/UT4CZ5369-I1KG9134/UT4CZ5369-I1KG9134-0000.txt->/content/drive/MyDrive/Colab Notebooks/data/tokenized/Corpora/BDRC/eKangyur/UT4CZ5369/UT4CZ5369-I1KG9134/UT4CZ5369-I1KG9134-0000.txt\n"
     ]
    },
    {
     "name": "stderr",
     "output_type": "stream",
     "text": [
      "/usr/local/lib/python3.7/dist-packages/botok/textunits/bostring.py:83: UserWarning: Beware of unexpected results: input string contains the non-expanded char \"ༀ\", found in \"\".\n",
      "  f'Beware of unexpected results: input string contains the non-expanded char \"{self.string[idx]}\", '\n"
     ]
    },
    {
     "name": "stdout",
     "output_type": "stream",
     "text": [
      "/content/drive/MyDrive/Colab Notebooks/data/tokenized/Corpora/BDRC/eKangyur/UT4CZ5369/UT4CZ5369-I1KG9135/UT4CZ5369-I1KG9135-0000.txt\n",
      "/content/drive/MyDrive/Colab Notebooks/Corpora/BDRC/eKangyur/UT4CZ5369/UT4CZ5369-I1KG9130/UT4CZ5369-I1KG9130-0000.txt->/content/drive/MyDrive/Colab Notebooks/data/tokenized/Corpora/BDRC/eKangyur/UT4CZ5369/UT4CZ5369-I1KG9130/UT4CZ5369-I1KG9130-0000.txt\n",
      "/content/drive/MyDrive/Colab Notebooks/data/tokenized/Corpora/BDRC/eKangyur/UT4CZ5369/UT4CZ5369-I1KG9140/UT4CZ5369-I1KG9140-0000.txt\n",
      "/content/drive/MyDrive/Colab Notebooks/Corpora/BDRC/eKangyur/UT4CZ5369/UT4CZ5369-I1KG9131/UT4CZ5369-I1KG9131-0000.txt->/content/drive/MyDrive/Colab Notebooks/data/tokenized/Corpora/BDRC/eKangyur/UT4CZ5369/UT4CZ5369-I1KG9131/UT4CZ5369-I1KG9131-0000.txt\n",
      "/content/drive/MyDrive/Colab Notebooks/data/tokenized/Corpora/BDRC/eKangyur/UT4CZ5369/UT4CZ5369-I1KG9191/UT4CZ5369-I1KG9191-0000.txt\n",
      "/content/drive/MyDrive/Colab Notebooks/Corpora/BDRC/eKangyur/UT4CZ5369/UT4CZ5369-I1KG9193/UT4CZ5369-I1KG9193-0000.txt->/content/drive/MyDrive/Colab Notebooks/data/tokenized/Corpora/BDRC/eKangyur/UT4CZ5369/UT4CZ5369-I1KG9193/UT4CZ5369-I1KG9193-0000.txt\n",
      "/content/drive/MyDrive/Colab Notebooks/data/tokenized/Corpora/BDRC/eKangyur/UT4CZ5369/UT4CZ5369-I1KG9134/UT4CZ5369-I1KG9134-0000.txt\n",
      "/content/drive/MyDrive/Colab Notebooks/Corpora/BDRC/eKangyur/UT4CZ5369/UT4CZ5369-I1KG9183/UT4CZ5369-I1KG9183-0000.txt->/content/drive/MyDrive/Colab Notebooks/data/tokenized/Corpora/BDRC/eKangyur/UT4CZ5369/UT4CZ5369-I1KG9183/UT4CZ5369-I1KG9183-0000.txt\n",
      "/content/drive/MyDrive/Colab Notebooks/data/tokenized/Corpora/BDRC/eKangyur/UT4CZ5369/UT4CZ5369-I1KG9132/UT4CZ5369-I1KG9132-0000.txt\n",
      "/content/drive/MyDrive/Colab Notebooks/Corpora/BDRC/eKangyur/UT4CZ5369/UT4CZ5369-I1KG9215/UT4CZ5369-I1KG9215-0000.txt->/content/drive/MyDrive/Colab Notebooks/data/tokenized/Corpora/BDRC/eKangyur/UT4CZ5369/UT4CZ5369-I1KG9215/UT4CZ5369-I1KG9215-0000.txt\n",
      "/content/drive/MyDrive/Colab Notebooks/data/tokenized/Corpora/BDRC/eKangyur/UT4CZ5369/UT4CZ5369-I1KG9223/UT4CZ5369-I1KG9223-0000.txt\n",
      "/content/drive/MyDrive/Colab Notebooks/Corpora/BDRC/eKangyur/UT4CZ5369/UT4CZ5369-I1KG9127/UT4CZ5369-I1KG9127-0000.txt->/content/drive/MyDrive/Colab Notebooks/data/tokenized/Corpora/BDRC/eKangyur/UT4CZ5369/UT4CZ5369-I1KG9127/UT4CZ5369-I1KG9127-0000.txt\n"
     ]
    },
    {
     "name": "stderr",
     "output_type": "stream",
     "text": [
      "/usr/local/lib/python3.7/dist-packages/botok/textunits/bostring.py:83: UserWarning: Beware of unexpected results: input string contains the non-expanded char \"ཀྵ\", found in \"\".\n",
      "  f'Beware of unexpected results: input string contains the non-expanded char \"{self.string[idx]}\", '\n",
      "/usr/local/lib/python3.7/dist-packages/botok/textunits/bostring.py:83: UserWarning: Beware of unexpected results: input string contains the non-expanded char \"ྡྷ\", found in \"\".\n",
      "  f'Beware of unexpected results: input string contains the non-expanded char \"{self.string[idx]}\", '\n",
      "/usr/local/lib/python3.7/dist-packages/botok/textunits/bostring.py:83: UserWarning: Beware of unexpected results: input string contains the non-expanded char \"ྒྷ\", found in \"\".\n",
      "  f'Beware of unexpected results: input string contains the non-expanded char \"{self.string[idx]}\", '\n"
     ]
    },
    {
     "name": "stdout",
     "output_type": "stream",
     "text": [
      "/content/drive/MyDrive/Colab Notebooks/Corpora/BDRC/eKangyur/UT4CZ5369/UT4CZ5369-I1KG9133/UT4CZ5369-I1KG9133-0000.txt->/content/drive/MyDrive/Colab Notebooks/data/tokenized/Corpora/BDRC/eKangyur/UT4CZ5369/UT4CZ5369-I1KG9133/UT4CZ5369-I1KG9133-0000.txt\n",
      "/content/drive/MyDrive/Colab Notebooks/Corpora/BDRC/eKangyur/UT4CZ5369/UT4CZ5369-I1KG9156/UT4CZ5369-I1KG9156-0000.txt->/content/drive/MyDrive/Colab Notebooks/data/tokenized/Corpora/BDRC/eKangyur/UT4CZ5369/UT4CZ5369-I1KG9156/UT4CZ5369-I1KG9156-0000.txt\n",
      "/content/drive/MyDrive/Colab Notebooks/Corpora/BDRC/eKangyur/UT4CZ5369/UT4CZ5369-I1KG9188/UT4CZ5369-I1KG9188-0000.txt->/content/drive/MyDrive/Colab Notebooks/data/tokenized/Corpora/BDRC/eKangyur/UT4CZ5369/UT4CZ5369-I1KG9188/UT4CZ5369-I1KG9188-0000.txt\n",
      "/content/drive/MyDrive/Colab Notebooks/Corpora/BDRC/eKangyur/UT4CZ5369/UT4CZ5369-I1KG9213/UT4CZ5369-I1KG9213-0000.txt->/content/drive/MyDrive/Colab Notebooks/data/tokenized/Corpora/BDRC/eKangyur/UT4CZ5369/UT4CZ5369-I1KG9213/UT4CZ5369-I1KG9213-0000.txt\n",
      "/content/drive/MyDrive/Colab Notebooks/Corpora/BDRC/eKangyur/UT4CZ5369/UT4CZ5369-I1KG9220/UT4CZ5369-I1KG9220-0000.txt->/content/drive/MyDrive/Colab Notebooks/data/tokenized/Corpora/BDRC/eKangyur/UT4CZ5369/UT4CZ5369-I1KG9220/UT4CZ5369-I1KG9220-0000.txt\n",
      "/content/drive/MyDrive/Colab Notebooks/Corpora/BDRC/eKangyur/UT4CZ5369/UT4CZ5369-I1KG9136/UT4CZ5369-I1KG9136-0000.txt->/content/drive/MyDrive/Colab Notebooks/data/tokenized/Corpora/BDRC/eKangyur/UT4CZ5369/UT4CZ5369-I1KG9136/UT4CZ5369-I1KG9136-0000.txt\n",
      "/content/drive/MyDrive/Colab Notebooks/Corpora/BDRC/eKangyur/UT4CZ5369/UT4CZ5369-I1KG9192/UT4CZ5369-I1KG9192-0000.txt->/content/drive/MyDrive/Colab Notebooks/data/tokenized/Corpora/BDRC/eKangyur/UT4CZ5369/UT4CZ5369-I1KG9192/UT4CZ5369-I1KG9192-0000.txt\n",
      "/content/drive/MyDrive/Colab Notebooks/Corpora/BDRC/eKangyur/UT4CZ5369/UT4CZ5369-I1KG9218/UT4CZ5369-I1KG9218-0000.txt->/content/drive/MyDrive/Colab Notebooks/data/tokenized/Corpora/BDRC/eKangyur/UT4CZ5369/UT4CZ5369-I1KG9218/UT4CZ5369-I1KG9218-0000.txt\n",
      "/content/drive/MyDrive/Colab Notebooks/Corpora/BDRC/eKangyur/UT4CZ5369/UT4CZ5369-I1KG9161/UT4CZ5369-I1KG9161-0000.txt->/content/drive/MyDrive/Colab Notebooks/data/tokenized/Corpora/BDRC/eKangyur/UT4CZ5369/UT4CZ5369-I1KG9161/UT4CZ5369-I1KG9161-0000.txt\n"
     ]
    },
    {
     "name": "stderr",
     "output_type": "stream",
     "text": [
      "ERROR:root:Internal Python error in the inspect module.\n",
      "Below is the traceback from this internal error.\n",
      "\n"
     ]
    },
    {
     "name": "stdout",
     "output_type": "stream",
     "text": [
      "/content/drive/MyDrive/Colab Notebooks/Corpora/BDRC/eKangyur/UT4CZ5369/UT4CZ5369-I1KG9180/UT4CZ5369-I1KG9180-0000.txt->/content/drive/MyDrive/Colab Notebooks/data/tokenized/Corpora/BDRC/eKangyur/UT4CZ5369/UT4CZ5369-I1KG9180/UT4CZ5369-I1KG9180-0000.txt\n",
      "/content/drive/MyDrive/Colab Notebooks/Corpora/BDRC/eKangyur/UT4CZ5369/UT4CZ5369-I1KG9200/UT4CZ5369-I1KG9200-0000.txt->/content/drive/MyDrive/Colab Notebooks/data/tokenized/Corpora/BDRC/eKangyur/UT4CZ5369/UT4CZ5369-I1KG9200/UT4CZ5369-I1KG9200-0000.txt\n",
      "/content/drive/MyDrive/Colab Notebooks/Corpora/BDRC/eKangyur/UT4CZ5369/UT4CZ5369-I1KG9203/UT4CZ5369-I1KG9203-0000.txt->/content/drive/MyDrive/Colab Notebooks/data/tokenized/Corpora/BDRC/eKangyur/UT4CZ5369/UT4CZ5369-I1KG9203/UT4CZ5369-I1KG9203-0000.txt\n",
      "Traceback (most recent call last):\n",
      "  File \"/usr/local/lib/python3.7/dist-packages/tqdm/contrib/concurrent.py\", line 76, in _executor_map\n",
      "    return list(tqdm_class(ex.map(fn, *iterables, **map_args), **kwargs))\n",
      "  File \"/usr/local/lib/python3.7/dist-packages/tqdm/notebook.py\", line 254, in __iter__\n",
      "    for obj in super(tqdm_notebook, self).__iter__():\n",
      "  File \"/usr/local/lib/python3.7/dist-packages/tqdm/std.py\", line 1178, in __iter__\n",
      "    for obj in iterable:\n",
      "  File \"/usr/lib/python3.7/concurrent/futures/process.py\", line 483, in _chain_from_iterable_of_lists\n",
      "    for element in iterable:\n",
      "  File \"/usr/lib/python3.7/concurrent/futures/_base.py\", line 598, in result_iterator\n",
      "    yield fs.pop().result()\n",
      "  File \"/usr/lib/python3.7/concurrent/futures/_base.py\", line 430, in result\n",
      "    self._condition.wait(timeout)\n",
      "  File \"/usr/lib/python3.7/threading.py\", line 296, in wait\n",
      "    waiter.acquire()\n",
      "KeyboardInterrupt\n",
      "\n",
      "During handling of the above exception, another exception occurred:\n",
      "\n",
      "Traceback (most recent call last):\n",
      "  File \"/usr/local/lib/python3.7/dist-packages/IPython/core/interactiveshell.py\", line 2882, in run_code\n",
      "    exec(code_obj, self.user_global_ns, self.user_ns)\n",
      "  File \"<ipython-input-9-08da3c3607e5>\", line 3, in <module>\n",
      "    results = convert_to_sentence_per_line(single_threading, folder_prefix, source_paths, output_path)\n",
      "  File \"<ipython-input-8-2607d24a84b4>\", line 82, in convert_to_sentence_per_line\n",
      "    results = process_map(process_file_, call_aguments, chunksize=1)\n",
      "  File \"/usr/local/lib/python3.7/dist-packages/tqdm/contrib/concurrent.py\", line 130, in process_map\n",
      "    return _executor_map(ProcessPoolExecutor, fn, *iterables, **tqdm_kwargs)\n",
      "  File \"/usr/local/lib/python3.7/dist-packages/tqdm/contrib/concurrent.py\", line 76, in _executor_map\n",
      "    return list(tqdm_class(ex.map(fn, *iterables, **map_args), **kwargs))\n",
      "  File \"/usr/lib/python3.7/concurrent/futures/_base.py\", line 623, in __exit__\n",
      "    self.shutdown(wait=True)\n",
      "  File \"/usr/lib/python3.7/concurrent/futures/process.py\", line 681, in shutdown\n",
      "    self._queue_management_thread.join()\n",
      "  File \"/usr/lib/python3.7/threading.py\", line 1044, in join\n",
      "    self._wait_for_tstate_lock()\n",
      "  File \"/usr/lib/python3.7/threading.py\", line 1060, in _wait_for_tstate_lock\n",
      "    elif lock.acquire(block, timeout):\n",
      "KeyboardInterrupt\n",
      "\n",
      "During handling of the above exception, another exception occurred:\n",
      "\n",
      "Traceback (most recent call last):\n",
      "  File \"/usr/local/lib/python3.7/dist-packages/IPython/core/interactiveshell.py\", line 1823, in showtraceback\n",
      "    stb = value._render_traceback_()\n",
      "AttributeError: 'KeyboardInterrupt' object has no attribute '_render_traceback_'\n",
      "\n",
      "During handling of the above exception, another exception occurred:\n",
      "\n",
      "Traceback (most recent call last):\n",
      "  File \"/usr/local/lib/python3.7/dist-packages/IPython/core/ultratb.py\", line 1132, in get_records\n",
      "    return _fixed_getinnerframes(etb, number_of_lines_of_context, tb_offset)\n",
      "  File \"/usr/local/lib/python3.7/dist-packages/IPython/core/ultratb.py\", line 313, in wrapped\n",
      "    return f(*args, **kwargs)\n",
      "  File \"/usr/local/lib/python3.7/dist-packages/IPython/core/ultratb.py\", line 358, in _fixed_getinnerframes\n",
      "    records = fix_frame_records_filenames(inspect.getinnerframes(etb, context))\n",
      "  File \"/usr/lib/python3.7/inspect.py\", line 1502, in getinnerframes\n",
      "    frameinfo = (tb.tb_frame,) + getframeinfo(tb, context)\n",
      "  File \"/usr/lib/python3.7/inspect.py\", line 1460, in getframeinfo\n",
      "    filename = getsourcefile(frame) or getfile(frame)\n",
      "  File \"/usr/lib/python3.7/inspect.py\", line 696, in getsourcefile\n",
      "    if getattr(getmodule(object, filename), '__loader__', None) is not None:\n",
      "  File \"/usr/lib/python3.7/inspect.py\", line 742, in getmodule\n",
      "    os.path.realpath(f)] = module.__name__\n",
      "  File \"/usr/lib/python3.7/posixpath.py\", line 395, in realpath\n",
      "    path, ok = _joinrealpath(filename[:0], filename, {})\n",
      "  File \"/usr/lib/python3.7/posixpath.py\", line 416, in _joinrealpath\n",
      "    if not name or name == curdir:\n",
      "KeyboardInterrupt\n"
     ]
    },
    {
     "ename": "TypeError",
     "evalue": "ignored",
     "output_type": "error",
     "traceback": [
      "\u001b[0;31m---------------------------------------------------------------------------\u001b[0m",
      "\u001b[0;31mKeyboardInterrupt\u001b[0m                         Traceback (most recent call last)",
      "\u001b[0;32m/usr/local/lib/python3.7/dist-packages/tqdm/contrib/concurrent.py\u001b[0m in \u001b[0;36m_executor_map\u001b[0;34m(PoolExecutor, fn, *iterables, **tqdm_kwargs)\u001b[0m\n\u001b[1;32m     75\u001b[0m         \u001b[0;32mwith\u001b[0m \u001b[0mPoolExecutor\u001b[0m\u001b[0;34m(\u001b[0m\u001b[0;34m**\u001b[0m\u001b[0mpool_kwargs\u001b[0m\u001b[0;34m)\u001b[0m \u001b[0;32mas\u001b[0m \u001b[0mex\u001b[0m\u001b[0;34m:\u001b[0m\u001b[0;34m\u001b[0m\u001b[0;34m\u001b[0m\u001b[0m\n\u001b[0;32m---> 76\u001b[0;31m             \u001b[0;32mreturn\u001b[0m \u001b[0mlist\u001b[0m\u001b[0;34m(\u001b[0m\u001b[0mtqdm_class\u001b[0m\u001b[0;34m(\u001b[0m\u001b[0mex\u001b[0m\u001b[0;34m.\u001b[0m\u001b[0mmap\u001b[0m\u001b[0;34m(\u001b[0m\u001b[0mfn\u001b[0m\u001b[0;34m,\u001b[0m \u001b[0;34m*\u001b[0m\u001b[0miterables\u001b[0m\u001b[0;34m,\u001b[0m \u001b[0;34m**\u001b[0m\u001b[0mmap_args\u001b[0m\u001b[0;34m)\u001b[0m\u001b[0;34m,\u001b[0m \u001b[0;34m**\u001b[0m\u001b[0mkwargs\u001b[0m\u001b[0;34m)\u001b[0m\u001b[0;34m)\u001b[0m\u001b[0;34m\u001b[0m\u001b[0;34m\u001b[0m\u001b[0m\n\u001b[0m\u001b[1;32m     77\u001b[0m \u001b[0;34m\u001b[0m\u001b[0m\n",
      "\u001b[0;32m/usr/local/lib/python3.7/dist-packages/tqdm/notebook.py\u001b[0m in \u001b[0;36m__iter__\u001b[0;34m(self)\u001b[0m\n\u001b[1;32m    253\u001b[0m         \u001b[0;32mtry\u001b[0m\u001b[0;34m:\u001b[0m\u001b[0;34m\u001b[0m\u001b[0;34m\u001b[0m\u001b[0m\n\u001b[0;32m--> 254\u001b[0;31m             \u001b[0;32mfor\u001b[0m \u001b[0mobj\u001b[0m \u001b[0;32min\u001b[0m \u001b[0msuper\u001b[0m\u001b[0;34m(\u001b[0m\u001b[0mtqdm_notebook\u001b[0m\u001b[0;34m,\u001b[0m \u001b[0mself\u001b[0m\u001b[0;34m)\u001b[0m\u001b[0;34m.\u001b[0m\u001b[0m__iter__\u001b[0m\u001b[0;34m(\u001b[0m\u001b[0;34m)\u001b[0m\u001b[0;34m:\u001b[0m\u001b[0;34m\u001b[0m\u001b[0;34m\u001b[0m\u001b[0m\n\u001b[0m\u001b[1;32m    255\u001b[0m                 \u001b[0;31m# return super(tqdm...) will not catch exception\u001b[0m\u001b[0;34m\u001b[0m\u001b[0;34m\u001b[0m\u001b[0;34m\u001b[0m\u001b[0m\n",
      "\u001b[0;32m/usr/local/lib/python3.7/dist-packages/tqdm/std.py\u001b[0m in \u001b[0;36m__iter__\u001b[0;34m(self)\u001b[0m\n\u001b[1;32m   1177\u001b[0m         \u001b[0;32mtry\u001b[0m\u001b[0;34m:\u001b[0m\u001b[0;34m\u001b[0m\u001b[0;34m\u001b[0m\u001b[0m\n\u001b[0;32m-> 1178\u001b[0;31m             \u001b[0;32mfor\u001b[0m \u001b[0mobj\u001b[0m \u001b[0;32min\u001b[0m \u001b[0miterable\u001b[0m\u001b[0;34m:\u001b[0m\u001b[0;34m\u001b[0m\u001b[0;34m\u001b[0m\u001b[0m\n\u001b[0m\u001b[1;32m   1179\u001b[0m                 \u001b[0;32myield\u001b[0m \u001b[0mobj\u001b[0m\u001b[0;34m\u001b[0m\u001b[0;34m\u001b[0m\u001b[0m\n",
      "\u001b[0;32m/usr/lib/python3.7/concurrent/futures/process.py\u001b[0m in \u001b[0;36m_chain_from_iterable_of_lists\u001b[0;34m(iterable)\u001b[0m\n\u001b[1;32m    482\u001b[0m     \"\"\"\n\u001b[0;32m--> 483\u001b[0;31m     \u001b[0;32mfor\u001b[0m \u001b[0melement\u001b[0m \u001b[0;32min\u001b[0m \u001b[0miterable\u001b[0m\u001b[0;34m:\u001b[0m\u001b[0;34m\u001b[0m\u001b[0;34m\u001b[0m\u001b[0m\n\u001b[0m\u001b[1;32m    484\u001b[0m         \u001b[0melement\u001b[0m\u001b[0;34m.\u001b[0m\u001b[0mreverse\u001b[0m\u001b[0;34m(\u001b[0m\u001b[0;34m)\u001b[0m\u001b[0;34m\u001b[0m\u001b[0;34m\u001b[0m\u001b[0m\n",
      "\u001b[0;32m/usr/lib/python3.7/concurrent/futures/_base.py\u001b[0m in \u001b[0;36mresult_iterator\u001b[0;34m()\u001b[0m\n\u001b[1;32m    597\u001b[0m                     \u001b[0;32mif\u001b[0m \u001b[0mtimeout\u001b[0m \u001b[0;32mis\u001b[0m \u001b[0;32mNone\u001b[0m\u001b[0;34m:\u001b[0m\u001b[0;34m\u001b[0m\u001b[0;34m\u001b[0m\u001b[0m\n\u001b[0;32m--> 598\u001b[0;31m                         \u001b[0;32myield\u001b[0m \u001b[0mfs\u001b[0m\u001b[0;34m.\u001b[0m\u001b[0mpop\u001b[0m\u001b[0;34m(\u001b[0m\u001b[0;34m)\u001b[0m\u001b[0;34m.\u001b[0m\u001b[0mresult\u001b[0m\u001b[0;34m(\u001b[0m\u001b[0;34m)\u001b[0m\u001b[0;34m\u001b[0m\u001b[0;34m\u001b[0m\u001b[0m\n\u001b[0m\u001b[1;32m    599\u001b[0m                     \u001b[0;32melse\u001b[0m\u001b[0;34m:\u001b[0m\u001b[0;34m\u001b[0m\u001b[0;34m\u001b[0m\u001b[0m\n",
      "\u001b[0;32m/usr/lib/python3.7/concurrent/futures/_base.py\u001b[0m in \u001b[0;36mresult\u001b[0;34m(self, timeout)\u001b[0m\n\u001b[1;32m    429\u001b[0m \u001b[0;34m\u001b[0m\u001b[0m\n\u001b[0;32m--> 430\u001b[0;31m             \u001b[0mself\u001b[0m\u001b[0;34m.\u001b[0m\u001b[0m_condition\u001b[0m\u001b[0;34m.\u001b[0m\u001b[0mwait\u001b[0m\u001b[0;34m(\u001b[0m\u001b[0mtimeout\u001b[0m\u001b[0;34m)\u001b[0m\u001b[0;34m\u001b[0m\u001b[0;34m\u001b[0m\u001b[0m\n\u001b[0m\u001b[1;32m    431\u001b[0m \u001b[0;34m\u001b[0m\u001b[0m\n",
      "\u001b[0;32m/usr/lib/python3.7/threading.py\u001b[0m in \u001b[0;36mwait\u001b[0;34m(self, timeout)\u001b[0m\n\u001b[1;32m    295\u001b[0m             \u001b[0;32mif\u001b[0m \u001b[0mtimeout\u001b[0m \u001b[0;32mis\u001b[0m \u001b[0;32mNone\u001b[0m\u001b[0;34m:\u001b[0m\u001b[0;34m\u001b[0m\u001b[0;34m\u001b[0m\u001b[0m\n\u001b[0;32m--> 296\u001b[0;31m                 \u001b[0mwaiter\u001b[0m\u001b[0;34m.\u001b[0m\u001b[0macquire\u001b[0m\u001b[0;34m(\u001b[0m\u001b[0;34m)\u001b[0m\u001b[0;34m\u001b[0m\u001b[0;34m\u001b[0m\u001b[0m\n\u001b[0m\u001b[1;32m    297\u001b[0m                 \u001b[0mgotit\u001b[0m \u001b[0;34m=\u001b[0m \u001b[0;32mTrue\u001b[0m\u001b[0;34m\u001b[0m\u001b[0;34m\u001b[0m\u001b[0m\n",
      "\u001b[0;31mKeyboardInterrupt\u001b[0m: ",
      "\nDuring handling of the above exception, another exception occurred:\n",
      "\u001b[0;31mKeyboardInterrupt\u001b[0m                         Traceback (most recent call last)",
      "\u001b[0;32m/usr/local/lib/python3.7/dist-packages/IPython/core/interactiveshell.py\u001b[0m in \u001b[0;36mrun_code\u001b[0;34m(self, code_obj, result)\u001b[0m\n\u001b[1;32m   2881\u001b[0m                 \u001b[0;31m#rprint('Running code', repr(code_obj)) # dbg\u001b[0m\u001b[0;34m\u001b[0m\u001b[0;34m\u001b[0m\u001b[0;34m\u001b[0m\u001b[0m\n\u001b[0;32m-> 2882\u001b[0;31m                 \u001b[0mexec\u001b[0m\u001b[0;34m(\u001b[0m\u001b[0mcode_obj\u001b[0m\u001b[0;34m,\u001b[0m \u001b[0mself\u001b[0m\u001b[0;34m.\u001b[0m\u001b[0muser_global_ns\u001b[0m\u001b[0;34m,\u001b[0m \u001b[0mself\u001b[0m\u001b[0;34m.\u001b[0m\u001b[0muser_ns\u001b[0m\u001b[0;34m)\u001b[0m\u001b[0;34m\u001b[0m\u001b[0;34m\u001b[0m\u001b[0m\n\u001b[0m\u001b[1;32m   2883\u001b[0m             \u001b[0;32mfinally\u001b[0m\u001b[0;34m:\u001b[0m\u001b[0;34m\u001b[0m\u001b[0;34m\u001b[0m\u001b[0m\n",
      "\u001b[0;32m<ipython-input-9-08da3c3607e5>\u001b[0m in \u001b[0;36m<module>\u001b[0;34m()\u001b[0m\n\u001b[1;32m      2\u001b[0m \u001b[0;31m# trigger actual processing: sentence-split and tokenize the entire corpus\u001b[0m\u001b[0;34m\u001b[0m\u001b[0;34m\u001b[0m\u001b[0;34m\u001b[0m\u001b[0m\n\u001b[0;32m----> 3\u001b[0;31m \u001b[0mresults\u001b[0m \u001b[0;34m=\u001b[0m \u001b[0mconvert_to_sentence_per_line\u001b[0m\u001b[0;34m(\u001b[0m\u001b[0msingle_threading\u001b[0m\u001b[0;34m,\u001b[0m \u001b[0mfolder_prefix\u001b[0m\u001b[0;34m,\u001b[0m \u001b[0msource_paths\u001b[0m\u001b[0;34m,\u001b[0m \u001b[0moutput_path\u001b[0m\u001b[0;34m)\u001b[0m\u001b[0;34m\u001b[0m\u001b[0;34m\u001b[0m\u001b[0m\n\u001b[0m\u001b[1;32m      4\u001b[0m \u001b[0;34m\u001b[0m\u001b[0m\n",
      "\u001b[0;32m<ipython-input-8-2607d24a84b4>\u001b[0m in \u001b[0;36mconvert_to_sentence_per_line\u001b[0;34m(single_threaded, path_prefix, input_file_pattern, out_path)\u001b[0m\n\u001b[1;32m     81\u001b[0m       \u001b[0;31m# each file is processed by a separate thread\u001b[0m\u001b[0;34m\u001b[0m\u001b[0;34m\u001b[0m\u001b[0;34m\u001b[0m\u001b[0m\n\u001b[0;32m---> 82\u001b[0;31m       \u001b[0mresults\u001b[0m \u001b[0;34m=\u001b[0m \u001b[0mprocess_map\u001b[0m\u001b[0;34m(\u001b[0m\u001b[0mprocess_file_\u001b[0m\u001b[0;34m,\u001b[0m \u001b[0mcall_aguments\u001b[0m\u001b[0;34m,\u001b[0m \u001b[0mchunksize\u001b[0m\u001b[0;34m=\u001b[0m\u001b[0;36m1\u001b[0m\u001b[0;34m)\u001b[0m\u001b[0;34m\u001b[0m\u001b[0;34m\u001b[0m\u001b[0m\n\u001b[0m\u001b[1;32m     83\u001b[0m \u001b[0;34m\u001b[0m\u001b[0m\n",
      "\u001b[0;32m/usr/local/lib/python3.7/dist-packages/tqdm/contrib/concurrent.py\u001b[0m in \u001b[0;36mprocess_map\u001b[0;34m(fn, *iterables, **tqdm_kwargs)\u001b[0m\n\u001b[1;32m    129\u001b[0m         \u001b[0mtqdm_kwargs\u001b[0m\u001b[0;34m[\u001b[0m\u001b[0;34m\"lock_name\"\u001b[0m\u001b[0;34m]\u001b[0m \u001b[0;34m=\u001b[0m \u001b[0;34m\"mp_lock\"\u001b[0m\u001b[0;34m\u001b[0m\u001b[0;34m\u001b[0m\u001b[0m\n\u001b[0;32m--> 130\u001b[0;31m     \u001b[0;32mreturn\u001b[0m \u001b[0m_executor_map\u001b[0m\u001b[0;34m(\u001b[0m\u001b[0mProcessPoolExecutor\u001b[0m\u001b[0;34m,\u001b[0m \u001b[0mfn\u001b[0m\u001b[0;34m,\u001b[0m \u001b[0;34m*\u001b[0m\u001b[0miterables\u001b[0m\u001b[0;34m,\u001b[0m \u001b[0;34m**\u001b[0m\u001b[0mtqdm_kwargs\u001b[0m\u001b[0;34m)\u001b[0m\u001b[0;34m\u001b[0m\u001b[0;34m\u001b[0m\u001b[0m\n\u001b[0m",
      "\u001b[0;32m/usr/local/lib/python3.7/dist-packages/tqdm/contrib/concurrent.py\u001b[0m in \u001b[0;36m_executor_map\u001b[0;34m(PoolExecutor, fn, *iterables, **tqdm_kwargs)\u001b[0m\n\u001b[1;32m     75\u001b[0m         \u001b[0;32mwith\u001b[0m \u001b[0mPoolExecutor\u001b[0m\u001b[0;34m(\u001b[0m\u001b[0;34m**\u001b[0m\u001b[0mpool_kwargs\u001b[0m\u001b[0;34m)\u001b[0m \u001b[0;32mas\u001b[0m \u001b[0mex\u001b[0m\u001b[0;34m:\u001b[0m\u001b[0;34m\u001b[0m\u001b[0;34m\u001b[0m\u001b[0m\n\u001b[0;32m---> 76\u001b[0;31m             \u001b[0;32mreturn\u001b[0m \u001b[0mlist\u001b[0m\u001b[0;34m(\u001b[0m\u001b[0mtqdm_class\u001b[0m\u001b[0;34m(\u001b[0m\u001b[0mex\u001b[0m\u001b[0;34m.\u001b[0m\u001b[0mmap\u001b[0m\u001b[0;34m(\u001b[0m\u001b[0mfn\u001b[0m\u001b[0;34m,\u001b[0m \u001b[0;34m*\u001b[0m\u001b[0miterables\u001b[0m\u001b[0;34m,\u001b[0m \u001b[0;34m**\u001b[0m\u001b[0mmap_args\u001b[0m\u001b[0;34m)\u001b[0m\u001b[0;34m,\u001b[0m \u001b[0;34m**\u001b[0m\u001b[0mkwargs\u001b[0m\u001b[0;34m)\u001b[0m\u001b[0;34m)\u001b[0m\u001b[0;34m\u001b[0m\u001b[0;34m\u001b[0m\u001b[0m\n\u001b[0m\u001b[1;32m     77\u001b[0m \u001b[0;34m\u001b[0m\u001b[0m\n",
      "\u001b[0;32m/usr/lib/python3.7/concurrent/futures/_base.py\u001b[0m in \u001b[0;36m__exit__\u001b[0;34m(self, exc_type, exc_val, exc_tb)\u001b[0m\n\u001b[1;32m    622\u001b[0m     \u001b[0;32mdef\u001b[0m \u001b[0m__exit__\u001b[0m\u001b[0;34m(\u001b[0m\u001b[0mself\u001b[0m\u001b[0;34m,\u001b[0m \u001b[0mexc_type\u001b[0m\u001b[0;34m,\u001b[0m \u001b[0mexc_val\u001b[0m\u001b[0;34m,\u001b[0m \u001b[0mexc_tb\u001b[0m\u001b[0;34m)\u001b[0m\u001b[0;34m:\u001b[0m\u001b[0;34m\u001b[0m\u001b[0;34m\u001b[0m\u001b[0m\n\u001b[0;32m--> 623\u001b[0;31m         \u001b[0mself\u001b[0m\u001b[0;34m.\u001b[0m\u001b[0mshutdown\u001b[0m\u001b[0;34m(\u001b[0m\u001b[0mwait\u001b[0m\u001b[0;34m=\u001b[0m\u001b[0;32mTrue\u001b[0m\u001b[0;34m)\u001b[0m\u001b[0;34m\u001b[0m\u001b[0;34m\u001b[0m\u001b[0m\n\u001b[0m\u001b[1;32m    624\u001b[0m         \u001b[0;32mreturn\u001b[0m \u001b[0;32mFalse\u001b[0m\u001b[0;34m\u001b[0m\u001b[0;34m\u001b[0m\u001b[0m\n",
      "\u001b[0;32m/usr/lib/python3.7/concurrent/futures/process.py\u001b[0m in \u001b[0;36mshutdown\u001b[0;34m(self, wait)\u001b[0m\n\u001b[1;32m    680\u001b[0m             \u001b[0;32mif\u001b[0m \u001b[0mwait\u001b[0m\u001b[0;34m:\u001b[0m\u001b[0;34m\u001b[0m\u001b[0;34m\u001b[0m\u001b[0m\n\u001b[0;32m--> 681\u001b[0;31m                 \u001b[0mself\u001b[0m\u001b[0;34m.\u001b[0m\u001b[0m_queue_management_thread\u001b[0m\u001b[0;34m.\u001b[0m\u001b[0mjoin\u001b[0m\u001b[0;34m(\u001b[0m\u001b[0;34m)\u001b[0m\u001b[0;34m\u001b[0m\u001b[0;34m\u001b[0m\u001b[0m\n\u001b[0m\u001b[1;32m    682\u001b[0m         \u001b[0;31m# To reduce the risk of opening too many files, remove references to\u001b[0m\u001b[0;34m\u001b[0m\u001b[0;34m\u001b[0m\u001b[0;34m\u001b[0m\u001b[0m\n",
      "\u001b[0;32m/usr/lib/python3.7/threading.py\u001b[0m in \u001b[0;36mjoin\u001b[0;34m(self, timeout)\u001b[0m\n\u001b[1;32m   1043\u001b[0m         \u001b[0;32mif\u001b[0m \u001b[0mtimeout\u001b[0m \u001b[0;32mis\u001b[0m \u001b[0;32mNone\u001b[0m\u001b[0;34m:\u001b[0m\u001b[0;34m\u001b[0m\u001b[0;34m\u001b[0m\u001b[0m\n\u001b[0;32m-> 1044\u001b[0;31m             \u001b[0mself\u001b[0m\u001b[0;34m.\u001b[0m\u001b[0m_wait_for_tstate_lock\u001b[0m\u001b[0;34m(\u001b[0m\u001b[0;34m)\u001b[0m\u001b[0;34m\u001b[0m\u001b[0;34m\u001b[0m\u001b[0m\n\u001b[0m\u001b[1;32m   1045\u001b[0m         \u001b[0;32melse\u001b[0m\u001b[0;34m:\u001b[0m\u001b[0;34m\u001b[0m\u001b[0;34m\u001b[0m\u001b[0m\n",
      "\u001b[0;32m/usr/lib/python3.7/threading.py\u001b[0m in \u001b[0;36m_wait_for_tstate_lock\u001b[0;34m(self, block, timeout)\u001b[0m\n\u001b[1;32m   1059\u001b[0m             \u001b[0;32massert\u001b[0m \u001b[0mself\u001b[0m\u001b[0;34m.\u001b[0m\u001b[0m_is_stopped\u001b[0m\u001b[0;34m\u001b[0m\u001b[0;34m\u001b[0m\u001b[0m\n\u001b[0;32m-> 1060\u001b[0;31m         \u001b[0;32melif\u001b[0m \u001b[0mlock\u001b[0m\u001b[0;34m.\u001b[0m\u001b[0macquire\u001b[0m\u001b[0;34m(\u001b[0m\u001b[0mblock\u001b[0m\u001b[0;34m,\u001b[0m \u001b[0mtimeout\u001b[0m\u001b[0;34m)\u001b[0m\u001b[0;34m:\u001b[0m\u001b[0;34m\u001b[0m\u001b[0;34m\u001b[0m\u001b[0m\n\u001b[0m\u001b[1;32m   1061\u001b[0m             \u001b[0mlock\u001b[0m\u001b[0;34m.\u001b[0m\u001b[0mrelease\u001b[0m\u001b[0;34m(\u001b[0m\u001b[0;34m)\u001b[0m\u001b[0;34m\u001b[0m\u001b[0;34m\u001b[0m\u001b[0m\n",
      "\u001b[0;31mKeyboardInterrupt\u001b[0m: ",
      "\nDuring handling of the above exception, another exception occurred:\n",
      "\u001b[0;31mAttributeError\u001b[0m                            Traceback (most recent call last)",
      "\u001b[0;32m/usr/local/lib/python3.7/dist-packages/IPython/core/interactiveshell.py\u001b[0m in \u001b[0;36mshowtraceback\u001b[0;34m(self, exc_tuple, filename, tb_offset, exception_only)\u001b[0m\n\u001b[1;32m   1822\u001b[0m                         \u001b[0;31m# in the engines. This should return a list of strings.\u001b[0m\u001b[0;34m\u001b[0m\u001b[0;34m\u001b[0m\u001b[0;34m\u001b[0m\u001b[0m\n\u001b[0;32m-> 1823\u001b[0;31m                         \u001b[0mstb\u001b[0m \u001b[0;34m=\u001b[0m \u001b[0mvalue\u001b[0m\u001b[0;34m.\u001b[0m\u001b[0m_render_traceback_\u001b[0m\u001b[0;34m(\u001b[0m\u001b[0;34m)\u001b[0m\u001b[0;34m\u001b[0m\u001b[0;34m\u001b[0m\u001b[0m\n\u001b[0m\u001b[1;32m   1824\u001b[0m                     \u001b[0;32mexcept\u001b[0m \u001b[0mException\u001b[0m\u001b[0;34m:\u001b[0m\u001b[0;34m\u001b[0m\u001b[0;34m\u001b[0m\u001b[0m\n",
      "\u001b[0;31mAttributeError\u001b[0m: 'KeyboardInterrupt' object has no attribute '_render_traceback_'",
      "\nDuring handling of the above exception, another exception occurred:\n",
      "\u001b[0;31mTypeError\u001b[0m                                 Traceback (most recent call last)",
      "\u001b[0;32m/usr/local/lib/python3.7/dist-packages/IPython/core/interactiveshell.py\u001b[0m in \u001b[0;36mrun_code\u001b[0;34m(self, code_obj, result)\u001b[0m\n\u001b[1;32m   2897\u001b[0m             \u001b[0;32mif\u001b[0m \u001b[0mresult\u001b[0m \u001b[0;32mis\u001b[0m \u001b[0;32mnot\u001b[0m \u001b[0;32mNone\u001b[0m\u001b[0;34m:\u001b[0m\u001b[0;34m\u001b[0m\u001b[0;34m\u001b[0m\u001b[0m\n\u001b[1;32m   2898\u001b[0m                 \u001b[0mresult\u001b[0m\u001b[0;34m.\u001b[0m\u001b[0merror_in_exec\u001b[0m \u001b[0;34m=\u001b[0m \u001b[0msys\u001b[0m\u001b[0;34m.\u001b[0m\u001b[0mexc_info\u001b[0m\u001b[0;34m(\u001b[0m\u001b[0;34m)\u001b[0m\u001b[0;34m[\u001b[0m\u001b[0;36m1\u001b[0m\u001b[0;34m]\u001b[0m\u001b[0;34m\u001b[0m\u001b[0;34m\u001b[0m\u001b[0m\n\u001b[0;32m-> 2899\u001b[0;31m             \u001b[0mself\u001b[0m\u001b[0;34m.\u001b[0m\u001b[0mshowtraceback\u001b[0m\u001b[0;34m(\u001b[0m\u001b[0;34m)\u001b[0m\u001b[0;34m\u001b[0m\u001b[0;34m\u001b[0m\u001b[0m\n\u001b[0m\u001b[1;32m   2900\u001b[0m         \u001b[0;32melse\u001b[0m\u001b[0;34m:\u001b[0m\u001b[0;34m\u001b[0m\u001b[0;34m\u001b[0m\u001b[0m\n\u001b[1;32m   2901\u001b[0m             \u001b[0moutflag\u001b[0m \u001b[0;34m=\u001b[0m \u001b[0;36m0\u001b[0m\u001b[0;34m\u001b[0m\u001b[0;34m\u001b[0m\u001b[0m\n",
      "\u001b[0;32m/usr/local/lib/python3.7/dist-packages/IPython/core/interactiveshell.py\u001b[0m in \u001b[0;36mshowtraceback\u001b[0;34m(self, exc_tuple, filename, tb_offset, exception_only)\u001b[0m\n\u001b[1;32m   1824\u001b[0m                     \u001b[0;32mexcept\u001b[0m \u001b[0mException\u001b[0m\u001b[0;34m:\u001b[0m\u001b[0;34m\u001b[0m\u001b[0;34m\u001b[0m\u001b[0m\n\u001b[1;32m   1825\u001b[0m                         stb = self.InteractiveTB.structured_traceback(etype,\n\u001b[0;32m-> 1826\u001b[0;31m                                             value, tb, tb_offset=tb_offset)\n\u001b[0m\u001b[1;32m   1827\u001b[0m \u001b[0;34m\u001b[0m\u001b[0m\n\u001b[1;32m   1828\u001b[0m                     \u001b[0mself\u001b[0m\u001b[0;34m.\u001b[0m\u001b[0m_showtraceback\u001b[0m\u001b[0;34m(\u001b[0m\u001b[0metype\u001b[0m\u001b[0;34m,\u001b[0m \u001b[0mvalue\u001b[0m\u001b[0;34m,\u001b[0m \u001b[0mstb\u001b[0m\u001b[0;34m)\u001b[0m\u001b[0;34m\u001b[0m\u001b[0;34m\u001b[0m\u001b[0m\n",
      "\u001b[0;32m/usr/local/lib/python3.7/dist-packages/IPython/core/ultratb.py\u001b[0m in \u001b[0;36mstructured_traceback\u001b[0;34m(self, etype, value, tb, tb_offset, number_of_lines_of_context)\u001b[0m\n\u001b[1;32m   1409\u001b[0m         \u001b[0mself\u001b[0m\u001b[0;34m.\u001b[0m\u001b[0mtb\u001b[0m \u001b[0;34m=\u001b[0m \u001b[0mtb\u001b[0m\u001b[0;34m\u001b[0m\u001b[0;34m\u001b[0m\u001b[0m\n\u001b[1;32m   1410\u001b[0m         return FormattedTB.structured_traceback(\n\u001b[0;32m-> 1411\u001b[0;31m             self, etype, value, tb, tb_offset, number_of_lines_of_context)\n\u001b[0m\u001b[1;32m   1412\u001b[0m \u001b[0;34m\u001b[0m\u001b[0m\n\u001b[1;32m   1413\u001b[0m \u001b[0;34m\u001b[0m\u001b[0m\n",
      "\u001b[0;32m/usr/local/lib/python3.7/dist-packages/IPython/core/ultratb.py\u001b[0m in \u001b[0;36mstructured_traceback\u001b[0;34m(self, etype, value, tb, tb_offset, number_of_lines_of_context)\u001b[0m\n\u001b[1;32m   1317\u001b[0m             \u001b[0;31m# Verbose modes need a full traceback\u001b[0m\u001b[0;34m\u001b[0m\u001b[0;34m\u001b[0m\u001b[0;34m\u001b[0m\u001b[0m\n\u001b[1;32m   1318\u001b[0m             return VerboseTB.structured_traceback(\n\u001b[0;32m-> 1319\u001b[0;31m                 \u001b[0mself\u001b[0m\u001b[0;34m,\u001b[0m \u001b[0metype\u001b[0m\u001b[0;34m,\u001b[0m \u001b[0mvalue\u001b[0m\u001b[0;34m,\u001b[0m \u001b[0mtb\u001b[0m\u001b[0;34m,\u001b[0m \u001b[0mtb_offset\u001b[0m\u001b[0;34m,\u001b[0m \u001b[0mnumber_of_lines_of_context\u001b[0m\u001b[0;34m\u001b[0m\u001b[0;34m\u001b[0m\u001b[0m\n\u001b[0m\u001b[1;32m   1320\u001b[0m             )\n\u001b[1;32m   1321\u001b[0m         \u001b[0;32melse\u001b[0m\u001b[0;34m:\u001b[0m\u001b[0;34m\u001b[0m\u001b[0;34m\u001b[0m\u001b[0m\n",
      "\u001b[0;32m/usr/local/lib/python3.7/dist-packages/IPython/core/ultratb.py\u001b[0m in \u001b[0;36mstructured_traceback\u001b[0;34m(self, etype, evalue, etb, tb_offset, number_of_lines_of_context)\u001b[0m\n\u001b[1;32m   1180\u001b[0m             \u001b[0mexception\u001b[0m \u001b[0;34m=\u001b[0m \u001b[0mself\u001b[0m\u001b[0;34m.\u001b[0m\u001b[0mget_parts_of_chained_exception\u001b[0m\u001b[0;34m(\u001b[0m\u001b[0mevalue\u001b[0m\u001b[0;34m)\u001b[0m\u001b[0;34m\u001b[0m\u001b[0;34m\u001b[0m\u001b[0m\n\u001b[1;32m   1181\u001b[0m             \u001b[0;32mif\u001b[0m \u001b[0mexception\u001b[0m\u001b[0;34m:\u001b[0m\u001b[0;34m\u001b[0m\u001b[0;34m\u001b[0m\u001b[0m\n\u001b[0;32m-> 1182\u001b[0;31m                 \u001b[0mformatted_exceptions\u001b[0m \u001b[0;34m+=\u001b[0m \u001b[0mself\u001b[0m\u001b[0;34m.\u001b[0m\u001b[0mprepare_chained_exception_message\u001b[0m\u001b[0;34m(\u001b[0m\u001b[0mevalue\u001b[0m\u001b[0;34m.\u001b[0m\u001b[0m__cause__\u001b[0m\u001b[0;34m)\u001b[0m\u001b[0;34m\u001b[0m\u001b[0;34m\u001b[0m\u001b[0m\n\u001b[0m\u001b[1;32m   1183\u001b[0m                 \u001b[0metype\u001b[0m\u001b[0;34m,\u001b[0m \u001b[0mevalue\u001b[0m\u001b[0;34m,\u001b[0m \u001b[0metb\u001b[0m \u001b[0;34m=\u001b[0m \u001b[0mexception\u001b[0m\u001b[0;34m\u001b[0m\u001b[0;34m\u001b[0m\u001b[0m\n\u001b[1;32m   1184\u001b[0m             \u001b[0;32melse\u001b[0m\u001b[0;34m:\u001b[0m\u001b[0;34m\u001b[0m\u001b[0;34m\u001b[0m\u001b[0m\n",
      "\u001b[0;31mTypeError\u001b[0m: can only concatenate str (not \"list\") to str"
     ]
    },
    {
     "name": "stderr",
     "output_type": "stream",
     "text": [
      "Process ForkProcess-4:\n",
      "Traceback (most recent call last):\n",
      "  File \"/usr/lib/python3.7/concurrent/futures/process.py\", line 239, in _process_worker\n",
      "    r = call_item.fn(*call_item.args, **call_item.kwargs)\n",
      "  File \"/usr/lib/python3.7/concurrent/futures/process.py\", line 198, in _process_chunk\n",
      "    return [fn(*args) for args in chunk]\n",
      "  File \"/usr/lib/python3.7/concurrent/futures/process.py\", line 198, in <listcomp>\n",
      "    return [fn(*args) for args in chunk]\n",
      "  File \"<ipython-input-8-2607d24a84b4>\", line 54, in process_file_\n",
      "    return process_file(path_prefix, input_file, out_path)\n",
      "  File \"<ipython-input-8-2607d24a84b4>\", line 38, in process_file\n",
      "    sentences = get_sentences(text)\n",
      "  File \"<ipython-input-8-2607d24a84b4>\", line 11, in get_sentences\n",
      "    tokens = tokenizer.tokenize(text)\n",
      "  File \"/usr/local/lib/python3.7/dist-packages/botok/tokenizers/wordtokenizer.py\", line 76, in tokenize\n",
      "    string, ignore_chars=self.ignore_chars, space_as_punct=spaces_as_punct\n",
      "  File \"/usr/local/lib/python3.7/dist-packages/botok/chunks/chunks.py\", line 66, in __init__\n",
      "    super().__init__(string, ignore_chars=ignore_chars)\n",
      "  File \"/usr/local/lib/python3.7/dist-packages/botok/chunks/chunks.py\", line 25, in __init__\n",
      "    ChunkFramework.__init__(self, string, ignore_chars=ignore_chars)\n",
      "  File \"/usr/local/lib/python3.7/dist-packages/botok/chunks/chunkframeworkbase.py\", line 10, in __init__\n",
      "    self.bs = BoString(string, ignore_chars=ignore_chars)\n",
      "  File \"/usr/local/lib/python3.7/dist-packages/botok/textunits/bostring.py\", line 55, in __init__\n",
      "    self.__attribute_basic_types()\n",
      "  File \"/usr/local/lib/python3.7/dist-packages/botok/textunits/bostring.py\", line 63, in __attribute_basic_types\n",
      "    cat = get_char_category(char)\n",
      "Process ForkProcess-1:\n",
      "  File \"/usr/local/lib/python3.7/dist-packages/botok/textunits/charcategories.py\", line 49, in get_char_category\n",
      "    if char in chars:\n",
      "KeyboardInterrupt\n",
      "Traceback (most recent call last):\n",
      "\n",
      "During handling of the above exception, another exception occurred:\n",
      "\n",
      "  File \"/usr/lib/python3.7/concurrent/futures/process.py\", line 239, in _process_worker\n",
      "    r = call_item.fn(*call_item.args, **call_item.kwargs)\n",
      "Traceback (most recent call last):\n",
      "  File \"/usr/lib/python3.7/concurrent/futures/process.py\", line 198, in _process_chunk\n",
      "    return [fn(*args) for args in chunk]\n",
      "  File \"/usr/lib/python3.7/multiprocessing/process.py\", line 297, in _bootstrap\n",
      "    self.run()\n",
      "/usr/local/lib/python3.7/dist-packages/botok/textunits/bostring.py:83: UserWarning: Beware of unexpected results: input string contains the non-expanded char \"ༀ\", found in \"\".\n",
      "  f'Beware of unexpected results: input string contains the non-expanded char \"{self.string[idx]}\", '\n",
      "  File \"/usr/lib/python3.7/multiprocessing/process.py\", line 99, in run\n",
      "    self._target(*self._args, **self._kwargs)\n",
      "  File \"/usr/lib/python3.7/concurrent/futures/process.py\", line 198, in <listcomp>\n",
      "    return [fn(*args) for args in chunk]\n",
      "  File \"<ipython-input-8-2607d24a84b4>\", line 54, in process_file_\n",
      "    return process_file(path_prefix, input_file, out_path)\n",
      "  File \"/usr/lib/python3.7/concurrent/futures/process.py\", line 242, in _process_worker\n",
      "    _sendback_result(result_queue, call_item.work_id, exception=exc)\n",
      "  File \"<ipython-input-8-2607d24a84b4>\", line 38, in process_file\n",
      "    sentences = get_sentences(text)\n",
      "  File \"<ipython-input-8-2607d24a84b4>\", line 11, in get_sentences\n",
      "    tokens = tokenizer.tokenize(text)\n",
      "KeyboardInterrupt\n",
      "  File \"/usr/local/lib/python3.7/dist-packages/botok/tokenizers/wordtokenizer.py\", line 76, in tokenize\n",
      "    string, ignore_chars=self.ignore_chars, space_as_punct=spaces_as_punct\n",
      "Process ForkProcess-2:\n",
      "  File \"/usr/local/lib/python3.7/dist-packages/botok/chunks/chunks.py\", line 66, in __init__\n",
      "    super().__init__(string, ignore_chars=ignore_chars)\n"
     ]
    }
   ],
   "source": [
    "single_threading = False # = google_collab\n",
    "# trigger actual processing: sentence-split and tokenize the entire corpus\n",
    "results = convert_to_sentence_per_line(single_threading, folder_prefix, source_paths, output_path)\n",
    "\n",
    "print(f'[INFO] Corpus contains {len(results)} sentences.')\n"
   ]
  },
  {
   "cell_type": "code",
   "execution_count": null,
   "metadata": {
    "executionInfo": {
     "elapsed": 12,
     "status": "aborted",
     "timestamp": 1623581356216,
     "user": {
      "displayName": "Christian Steinert",
      "photoUrl": "",
      "userId": "14480600681092148199"
     },
     "user_tz": -120
    },
    "id": "pF4PyETsSuWT"
   },
   "outputs": [],
   "source": []
  }
 ],
 "metadata": {
  "colab": {
   "collapsed_sections": [],
   "name": "01_TokenizeCorpus.ipynb",
   "provenance": []
  },
  "kernelspec": {
   "display_name": "Python 3",
   "language": "python",
   "name": "python3"
  },
  "language_info": {
   "codemirror_mode": {
    "name": "ipython",
    "version": 3
   },
   "file_extension": ".py",
   "mimetype": "text/x-python",
   "name": "python",
   "nbconvert_exporter": "python",
   "pygments_lexer": "ipython3",
   "version": "3.9.10"
  },
  "widgets": {
   "application/vnd.jupyter.widget-state+json": {
    "18d11dca1ba944fb9f875c4fe810d814": {
     "model_module": "@jupyter-widgets/controls",
     "model_name": "HTMLModel",
     "state": {
      "_dom_classes": [],
      "_model_module": "@jupyter-widgets/controls",
      "_model_module_version": "1.5.0",
      "_model_name": "HTMLModel",
      "_view_count": null,
      "_view_module": "@jupyter-widgets/controls",
      "_view_module_version": "1.5.0",
      "_view_name": "HTMLView",
      "description": "",
      "description_tooltip": null,
      "layout": "IPY_MODEL_c0b08863dca0446fb5aa2cde36d7f967",
      "placeholder": "​",
      "style": "IPY_MODEL_9a62a68abe324ebfb56ce3a967d223f6",
      "value": " 24/10742 [49:07&lt;480:23:09, 161.35s/it]"
     }
    },
    "245408505ce24b0395aa83fc3c46f2e3": {
     "model_module": "@jupyter-widgets/base",
     "model_name": "LayoutModel",
     "state": {
      "_model_module": "@jupyter-widgets/base",
      "_model_module_version": "1.2.0",
      "_model_name": "LayoutModel",
      "_view_count": null,
      "_view_module": "@jupyter-widgets/base",
      "_view_module_version": "1.2.0",
      "_view_name": "LayoutView",
      "align_content": null,
      "align_items": null,
      "align_self": null,
      "border": null,
      "bottom": null,
      "display": null,
      "flex": null,
      "flex_flow": null,
      "grid_area": null,
      "grid_auto_columns": null,
      "grid_auto_flow": null,
      "grid_auto_rows": null,
      "grid_column": null,
      "grid_gap": null,
      "grid_row": null,
      "grid_template_areas": null,
      "grid_template_columns": null,
      "grid_template_rows": null,
      "height": null,
      "justify_content": null,
      "justify_items": null,
      "left": null,
      "margin": null,
      "max_height": null,
      "max_width": null,
      "min_height": null,
      "min_width": null,
      "object_fit": null,
      "object_position": null,
      "order": null,
      "overflow": null,
      "overflow_x": null,
      "overflow_y": null,
      "padding": null,
      "right": null,
      "top": null,
      "visibility": null,
      "width": null
     }
    },
    "2d3b96789c39414dafb1cd6fd094af75": {
     "model_module": "@jupyter-widgets/controls",
     "model_name": "FloatProgressModel",
     "state": {
      "_dom_classes": [],
      "_model_module": "@jupyter-widgets/controls",
      "_model_module_version": "1.5.0",
      "_model_name": "FloatProgressModel",
      "_view_count": null,
      "_view_module": "@jupyter-widgets/controls",
      "_view_module_version": "1.5.0",
      "_view_name": "ProgressView",
      "bar_style": "danger",
      "description": "",
      "description_tooltip": null,
      "layout": "IPY_MODEL_a2bd395d70df4946b93fe11cde0e64d8",
      "max": 10742,
      "min": 0,
      "orientation": "horizontal",
      "style": "IPY_MODEL_6911acf3a00a4f2a93a947f360bbc0e4",
      "value": 24
     }
    },
    "4583e33c56bf4fc88304c37898fdba1f": {
     "model_module": "@jupyter-widgets/controls",
     "model_name": "HTMLModel",
     "state": {
      "_dom_classes": [],
      "_model_module": "@jupyter-widgets/controls",
      "_model_module_version": "1.5.0",
      "_model_name": "HTMLModel",
      "_view_count": null,
      "_view_module": "@jupyter-widgets/controls",
      "_view_module_version": "1.5.0",
      "_view_name": "HTMLView",
      "description": "",
      "description_tooltip": null,
      "layout": "IPY_MODEL_245408505ce24b0395aa83fc3c46f2e3",
      "placeholder": "​",
      "style": "IPY_MODEL_f79cca4ccf1446a7a963c3a948b54380",
      "value": "  0%"
     }
    },
    "6911acf3a00a4f2a93a947f360bbc0e4": {
     "model_module": "@jupyter-widgets/controls",
     "model_name": "ProgressStyleModel",
     "state": {
      "_model_module": "@jupyter-widgets/controls",
      "_model_module_version": "1.5.0",
      "_model_name": "ProgressStyleModel",
      "_view_count": null,
      "_view_module": "@jupyter-widgets/base",
      "_view_module_version": "1.2.0",
      "_view_name": "StyleView",
      "bar_color": null,
      "description_width": ""
     }
    },
    "925e9953b64f49b1b9d618fbcf8ad2a0": {
     "model_module": "@jupyter-widgets/controls",
     "model_name": "HBoxModel",
     "state": {
      "_dom_classes": [],
      "_model_module": "@jupyter-widgets/controls",
      "_model_module_version": "1.5.0",
      "_model_name": "HBoxModel",
      "_view_count": null,
      "_view_module": "@jupyter-widgets/controls",
      "_view_module_version": "1.5.0",
      "_view_name": "HBoxView",
      "box_style": "",
      "children": [
       "IPY_MODEL_4583e33c56bf4fc88304c37898fdba1f",
       "IPY_MODEL_2d3b96789c39414dafb1cd6fd094af75",
       "IPY_MODEL_18d11dca1ba944fb9f875c4fe810d814"
      ],
      "layout": "IPY_MODEL_b272ae1b6f124350b7ca3d913d90a715"
     }
    },
    "9a62a68abe324ebfb56ce3a967d223f6": {
     "model_module": "@jupyter-widgets/controls",
     "model_name": "DescriptionStyleModel",
     "state": {
      "_model_module": "@jupyter-widgets/controls",
      "_model_module_version": "1.5.0",
      "_model_name": "DescriptionStyleModel",
      "_view_count": null,
      "_view_module": "@jupyter-widgets/base",
      "_view_module_version": "1.2.0",
      "_view_name": "StyleView",
      "description_width": ""
     }
    },
    "a2bd395d70df4946b93fe11cde0e64d8": {
     "model_module": "@jupyter-widgets/base",
     "model_name": "LayoutModel",
     "state": {
      "_model_module": "@jupyter-widgets/base",
      "_model_module_version": "1.2.0",
      "_model_name": "LayoutModel",
      "_view_count": null,
      "_view_module": "@jupyter-widgets/base",
      "_view_module_version": "1.2.0",
      "_view_name": "LayoutView",
      "align_content": null,
      "align_items": null,
      "align_self": null,
      "border": null,
      "bottom": null,
      "display": null,
      "flex": null,
      "flex_flow": null,
      "grid_area": null,
      "grid_auto_columns": null,
      "grid_auto_flow": null,
      "grid_auto_rows": null,
      "grid_column": null,
      "grid_gap": null,
      "grid_row": null,
      "grid_template_areas": null,
      "grid_template_columns": null,
      "grid_template_rows": null,
      "height": null,
      "justify_content": null,
      "justify_items": null,
      "left": null,
      "margin": null,
      "max_height": null,
      "max_width": null,
      "min_height": null,
      "min_width": null,
      "object_fit": null,
      "object_position": null,
      "order": null,
      "overflow": null,
      "overflow_x": null,
      "overflow_y": null,
      "padding": null,
      "right": null,
      "top": null,
      "visibility": null,
      "width": null
     }
    },
    "b272ae1b6f124350b7ca3d913d90a715": {
     "model_module": "@jupyter-widgets/base",
     "model_name": "LayoutModel",
     "state": {
      "_model_module": "@jupyter-widgets/base",
      "_model_module_version": "1.2.0",
      "_model_name": "LayoutModel",
      "_view_count": null,
      "_view_module": "@jupyter-widgets/base",
      "_view_module_version": "1.2.0",
      "_view_name": "LayoutView",
      "align_content": null,
      "align_items": null,
      "align_self": null,
      "border": null,
      "bottom": null,
      "display": null,
      "flex": null,
      "flex_flow": null,
      "grid_area": null,
      "grid_auto_columns": null,
      "grid_auto_flow": null,
      "grid_auto_rows": null,
      "grid_column": null,
      "grid_gap": null,
      "grid_row": null,
      "grid_template_areas": null,
      "grid_template_columns": null,
      "grid_template_rows": null,
      "height": null,
      "justify_content": null,
      "justify_items": null,
      "left": null,
      "margin": null,
      "max_height": null,
      "max_width": null,
      "min_height": null,
      "min_width": null,
      "object_fit": null,
      "object_position": null,
      "order": null,
      "overflow": null,
      "overflow_x": null,
      "overflow_y": null,
      "padding": null,
      "right": null,
      "top": null,
      "visibility": null,
      "width": null
     }
    },
    "c0b08863dca0446fb5aa2cde36d7f967": {
     "model_module": "@jupyter-widgets/base",
     "model_name": "LayoutModel",
     "state": {
      "_model_module": "@jupyter-widgets/base",
      "_model_module_version": "1.2.0",
      "_model_name": "LayoutModel",
      "_view_count": null,
      "_view_module": "@jupyter-widgets/base",
      "_view_module_version": "1.2.0",
      "_view_name": "LayoutView",
      "align_content": null,
      "align_items": null,
      "align_self": null,
      "border": null,
      "bottom": null,
      "display": null,
      "flex": null,
      "flex_flow": null,
      "grid_area": null,
      "grid_auto_columns": null,
      "grid_auto_flow": null,
      "grid_auto_rows": null,
      "grid_column": null,
      "grid_gap": null,
      "grid_row": null,
      "grid_template_areas": null,
      "grid_template_columns": null,
      "grid_template_rows": null,
      "height": null,
      "justify_content": null,
      "justify_items": null,
      "left": null,
      "margin": null,
      "max_height": null,
      "max_width": null,
      "min_height": null,
      "min_width": null,
      "object_fit": null,
      "object_position": null,
      "order": null,
      "overflow": null,
      "overflow_x": null,
      "overflow_y": null,
      "padding": null,
      "right": null,
      "top": null,
      "visibility": null,
      "width": null
     }
    },
    "f79cca4ccf1446a7a963c3a948b54380": {
     "model_module": "@jupyter-widgets/controls",
     "model_name": "DescriptionStyleModel",
     "state": {
      "_model_module": "@jupyter-widgets/controls",
      "_model_module_version": "1.5.0",
      "_model_name": "DescriptionStyleModel",
      "_view_count": null,
      "_view_module": "@jupyter-widgets/base",
      "_view_module_version": "1.2.0",
      "_view_name": "StyleView",
      "description_width": ""
     }
    }
   }
  }
 },
 "nbformat": 4,
 "nbformat_minor": 4
}
